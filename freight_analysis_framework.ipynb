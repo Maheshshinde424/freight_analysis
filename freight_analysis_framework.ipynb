{
 "cells": [
  {
   "cell_type": "markdown",
   "id": "06dc774f",
   "metadata": {},
   "source": [
    "1. Problem Statement : \n",
    "2. Load The dataset\n",
    "3. EDA : data info, checking features catergorical and numerical, the bivariate, univariate, multivaraite analysis,\n",
    "         check missing values and outliers.\n",
    "    \n",
    "4. feature engineering : handle null values by using knn imputer, simple imputer, handle outliers by using IQR OR zscore method, \n",
    "                          transform the categorical values of the relevant features into numerical ones by using encoding.\n",
    "5. feature selection : in feature selection we use filter method.\n",
    "   \n",
    "   Types of Feature Selection:\n",
    "\n",
    "**Filter Method:** Based on the statistical measure of the relationship between the feature and the target variable. Features with a high correlation are selected.\n",
    "**Wrapper Method:** Based on the evaluation of the feature subset using a specific machine learning algorithm. The feature subset that results in the best performance is selected.\n",
    "**Embedded Method:** Based on the feature selection as part of the training process of the machine learning algorithm.\n",
    "\n",
    "6. Model Selection : try several model for this project but we get good accuracy by using Decision Tree.\n",
    "\n",
    "7. Model Evaluation : using some matrics we find the MSE.\n"
   ]
  },
  {
   "cell_type": "code",
   "execution_count": 1,
   "id": "1e566ca3",
   "metadata": {},
   "outputs": [],
   "source": [
    "import pandas as pd\n",
    "import numpy as np\n",
    "import seaborn as sns\n",
    "import matplotlib.pyplot as plt\n",
    "from sklearn.preprocessing import OrdinalEncoder,OneHotEncoder,LabelEncoder  # we do encoding for categorical columns, onehotencoding and Ordinal encoding\n",
    "from sklearn.impute import KNNImputer,SimpleImputer   # missing values replace with knn imputers.\n",
    "from sklearn.linear_model import LinearRegression\n",
    "from sklearn.neighbors import KNeighborsRegressor\n",
    "from sklearn.tree import DecisionTreeRegressor\n",
    "from sklearn.ensemble import RandomForestRegressor\n",
    "from sklearn.metrics import mean_squared_error,mean_absolute_error,r2_score\n",
    "import time\n",
    "from sklearn.model_selection import train_test_split\n",
    "from sklearn.model_selection import RandomizedSearchCV,GridSearchCV"
   ]
  },
  {
   "cell_type": "code",
   "execution_count": 2,
   "id": "eb06a028",
   "metadata": {},
   "outputs": [
    {
     "data": {
      "text/html": [
       "<div>\n",
       "<style scoped>\n",
       "    .dataframe tbody tr th:only-of-type {\n",
       "        vertical-align: middle;\n",
       "    }\n",
       "\n",
       "    .dataframe tbody tr th {\n",
       "        vertical-align: top;\n",
       "    }\n",
       "\n",
       "    .dataframe thead th {\n",
       "        text-align: right;\n",
       "    }\n",
       "</style>\n",
       "<table border=\"1\" class=\"dataframe\">\n",
       "  <thead>\n",
       "    <tr style=\"text-align: right;\">\n",
       "      <th></th>\n",
       "      <th>Year</th>\n",
       "      <th>Mode</th>\n",
       "      <th>SCTGGroup</th>\n",
       "      <th>OrigCMA</th>\n",
       "      <th>OrigProv</th>\n",
       "      <th>OrigCtry</th>\n",
       "      <th>DestCMA</th>\n",
       "      <th>DestProv</th>\n",
       "      <th>DestCtry</th>\n",
       "      <th>Shipments</th>\n",
       "      <th>Weight</th>\n",
       "      <th>Revenue</th>\n",
       "      <th>Distance</th>\n",
       "      <th>TonneKm</th>\n",
       "      <th>Value</th>\n",
       "    </tr>\n",
       "  </thead>\n",
       "  <tbody>\n",
       "    <tr>\n",
       "      <th>0</th>\n",
       "      <td>2011</td>\n",
       "      <td>TF</td>\n",
       "      <td>OTHMF</td>\n",
       "      <td>559</td>\n",
       "      <td>ON</td>\n",
       "      <td>CA</td>\n",
       "      <td>825</td>\n",
       "      <td>AB</td>\n",
       "      <td>CA</td>\n",
       "      <td>59</td>\n",
       "      <td>28,284.20</td>\n",
       "      <td>58,508.90</td>\n",
       "      <td>220,471.00</td>\n",
       "      <td>105,783.50</td>\n",
       "      <td>560,727.50</td>\n",
       "    </tr>\n",
       "    <tr>\n",
       "      <th>1</th>\n",
       "      <td>2011</td>\n",
       "      <td>TF</td>\n",
       "      <td>OTHMF</td>\n",
       "      <td>559</td>\n",
       "      <td>ON</td>\n",
       "      <td>CA</td>\n",
       "      <td>835</td>\n",
       "      <td>AB</td>\n",
       "      <td>CA</td>\n",
       "      <td>127</td>\n",
       "      <td>138,919.10</td>\n",
       "      <td>100,204.10</td>\n",
       "      <td>478,640.00</td>\n",
       "      <td>523,088.60</td>\n",
       "      <td>1,634,366.40</td>\n",
       "    </tr>\n",
       "    <tr>\n",
       "      <th>2</th>\n",
       "      <td>2011</td>\n",
       "      <td>TF</td>\n",
       "      <td>OTHMF</td>\n",
       "      <td>559</td>\n",
       "      <td>ON</td>\n",
       "      <td>CA</td>\n",
       "      <td>933</td>\n",
       "      <td>BC</td>\n",
       "      <td>CA</td>\n",
       "      <td>42</td>\n",
       "      <td>22,850.60</td>\n",
       "      <td>52,947.40</td>\n",
       "      <td>196,805.00</td>\n",
       "      <td>107,261.20</td>\n",
       "      <td>1,258,757.70</td>\n",
       "    </tr>\n",
       "    <tr>\n",
       "      <th>3</th>\n",
       "      <td>2011</td>\n",
       "      <td>TF</td>\n",
       "      <td>OTHMF</td>\n",
       "      <td>600</td>\n",
       "      <td>MB</td>\n",
       "      <td>CA</td>\n",
       "      <td>421</td>\n",
       "      <td>QC</td>\n",
       "      <td>CA</td>\n",
       "      <td>49</td>\n",
       "      <td>612,882.10</td>\n",
       "      <td>292,874.20</td>\n",
       "      <td>185,448.00</td>\n",
       "      <td>2,374,926.80</td>\n",
       "      <td>8,193,369.40</td>\n",
       "    </tr>\n",
       "    <tr>\n",
       "      <th>4</th>\n",
       "      <td>2011</td>\n",
       "      <td>TF</td>\n",
       "      <td>OTHMF</td>\n",
       "      <td>600</td>\n",
       "      <td>MB</td>\n",
       "      <td>CA</td>\n",
       "      <td>537</td>\n",
       "      <td>ON</td>\n",
       "      <td>CA</td>\n",
       "      <td>17</td>\n",
       "      <td>15,362.50</td>\n",
       "      <td>13,966.20</td>\n",
       "      <td>36,060.00</td>\n",
       "      <td>32,817.00</td>\n",
       "      <td>299,427.20</td>\n",
       "    </tr>\n",
       "  </tbody>\n",
       "</table>\n",
       "</div>"
      ],
      "text/plain": [
       "   Year Mode SCTGGroup  OrigCMA OrigProv OrigCtry  DestCMA DestProv DestCtry  \\\n",
       "0  2011   TF     OTHMF      559       ON       CA      825       AB       CA   \n",
       "1  2011   TF     OTHMF      559       ON       CA      835       AB       CA   \n",
       "2  2011   TF     OTHMF      559       ON       CA      933       BC       CA   \n",
       "3  2011   TF     OTHMF      600       MB       CA      421       QC       CA   \n",
       "4  2011   TF     OTHMF      600       MB       CA      537       ON       CA   \n",
       "\n",
       "  Shipments      Weight     Revenue    Distance       TonneKm         Value  \n",
       "0        59   28,284.20   58,508.90  220,471.00    105,783.50    560,727.50  \n",
       "1       127  138,919.10  100,204.10  478,640.00    523,088.60  1,634,366.40  \n",
       "2        42   22,850.60   52,947.40  196,805.00    107,261.20  1,258,757.70  \n",
       "3        49  612,882.10  292,874.20  185,448.00  2,374,926.80  8,193,369.40  \n",
       "4        17   15,362.50   13,966.20   36,060.00     32,817.00    299,427.20  "
      ]
     },
     "execution_count": 2,
     "metadata": {},
     "output_type": "execute_result"
    }
   ],
   "source": [
    "df = pd.read_csv(\"CFAF_C2011-2017_Code_E.csv\")\n",
    "df.head()"
   ]
  },
  {
   "cell_type": "code",
   "execution_count": 3,
   "id": "9857f3ca",
   "metadata": {},
   "outputs": [
    {
     "data": {
      "text/plain": [
       "(58721, 15)"
      ]
     },
     "execution_count": 3,
     "metadata": {},
     "output_type": "execute_result"
    }
   ],
   "source": [
    "df.shape"
   ]
  },
  {
   "cell_type": "code",
   "execution_count": 4,
   "id": "4968b441",
   "metadata": {},
   "outputs": [
    {
     "data": {
      "text/plain": [
       "Year            0\n",
       "Mode            0\n",
       "SCTGGroup       0\n",
       "OrigCMA         0\n",
       "OrigProv        0\n",
       "OrigCtry        0\n",
       "DestCMA         0\n",
       "DestProv        0\n",
       "DestCtry        0\n",
       "Shipments    1560\n",
       "Weight       1560\n",
       "Revenue      1560\n",
       "Distance     1560\n",
       "TonneKm      1560\n",
       "Value        1560\n",
       "dtype: int64"
      ]
     },
     "execution_count": 4,
     "metadata": {},
     "output_type": "execute_result"
    }
   ],
   "source": [
    "df.isna().sum()"
   ]
  },
  {
   "cell_type": "code",
   "execution_count": 5,
   "id": "3c6b6df3",
   "metadata": {},
   "outputs": [
    {
     "name": "stdout",
     "output_type": "stream",
     "text": [
      "<class 'pandas.core.frame.DataFrame'>\n",
      "RangeIndex: 58721 entries, 0 to 58720\n",
      "Data columns (total 15 columns):\n",
      " #   Column     Non-Null Count  Dtype \n",
      "---  ------     --------------  ----- \n",
      " 0   Year       58721 non-null  int64 \n",
      " 1   Mode       58721 non-null  object\n",
      " 2   SCTGGroup  58721 non-null  object\n",
      " 3   OrigCMA    58721 non-null  int64 \n",
      " 4   OrigProv   58721 non-null  object\n",
      " 5   OrigCtry   58721 non-null  object\n",
      " 6   DestCMA    58721 non-null  int64 \n",
      " 7   DestProv   58721 non-null  object\n",
      " 8   DestCtry   58721 non-null  object\n",
      " 9   Shipments  57161 non-null  object\n",
      " 10  Weight     57161 non-null  object\n",
      " 11  Revenue    57161 non-null  object\n",
      " 12  Distance   57161 non-null  object\n",
      " 13  TonneKm    57161 non-null  object\n",
      " 14  Value      57161 non-null  object\n",
      "dtypes: int64(3), object(12)\n",
      "memory usage: 6.7+ MB\n"
     ]
    }
   ],
   "source": [
    "df.info()"
   ]
  },
  {
   "cell_type": "code",
   "execution_count": 6,
   "id": "3c27791b",
   "metadata": {},
   "outputs": [
    {
     "data": {
      "text/plain": [
       "Year          int64\n",
       "Mode         object\n",
       "SCTGGroup    object\n",
       "OrigCMA       int64\n",
       "OrigProv     object\n",
       "OrigCtry     object\n",
       "DestCMA       int64\n",
       "DestProv     object\n",
       "DestCtry     object\n",
       "Shipments    object\n",
       "Weight       object\n",
       "Revenue      object\n",
       "Distance     object\n",
       "TonneKm      object\n",
       "Value        object\n",
       "dtype: object"
      ]
     },
     "execution_count": 6,
     "metadata": {},
     "output_type": "execute_result"
    }
   ],
   "source": [
    "df.dtypes"
   ]
  },
  {
   "cell_type": "code",
   "execution_count": 7,
   "id": "11aa83ee",
   "metadata": {},
   "outputs": [],
   "source": [
    "cat_df = df.select_dtypes(include='object')\n",
    "num_df = df.select_dtypes(include= \"int64\")"
   ]
  },
  {
   "cell_type": "markdown",
   "id": "de136b96",
   "metadata": {},
   "source": [
    "### Catrgorical DF"
   ]
  },
  {
   "cell_type": "code",
   "execution_count": 8,
   "id": "044773d9",
   "metadata": {},
   "outputs": [
    {
     "data": {
      "text/html": [
       "<div>\n",
       "<style scoped>\n",
       "    .dataframe tbody tr th:only-of-type {\n",
       "        vertical-align: middle;\n",
       "    }\n",
       "\n",
       "    .dataframe tbody tr th {\n",
       "        vertical-align: top;\n",
       "    }\n",
       "\n",
       "    .dataframe thead th {\n",
       "        text-align: right;\n",
       "    }\n",
       "</style>\n",
       "<table border=\"1\" class=\"dataframe\">\n",
       "  <thead>\n",
       "    <tr style=\"text-align: right;\">\n",
       "      <th></th>\n",
       "      <th>Mode</th>\n",
       "      <th>SCTGGroup</th>\n",
       "      <th>OrigProv</th>\n",
       "      <th>OrigCtry</th>\n",
       "      <th>DestProv</th>\n",
       "      <th>DestCtry</th>\n",
       "      <th>Shipments</th>\n",
       "      <th>Weight</th>\n",
       "      <th>Revenue</th>\n",
       "      <th>Distance</th>\n",
       "      <th>TonneKm</th>\n",
       "      <th>Value</th>\n",
       "    </tr>\n",
       "  </thead>\n",
       "  <tbody>\n",
       "    <tr>\n",
       "      <th>0</th>\n",
       "      <td>TF</td>\n",
       "      <td>OTHMF</td>\n",
       "      <td>ON</td>\n",
       "      <td>CA</td>\n",
       "      <td>AB</td>\n",
       "      <td>CA</td>\n",
       "      <td>59</td>\n",
       "      <td>28,284.20</td>\n",
       "      <td>58,508.90</td>\n",
       "      <td>220,471.00</td>\n",
       "      <td>105,783.50</td>\n",
       "      <td>560,727.50</td>\n",
       "    </tr>\n",
       "    <tr>\n",
       "      <th>1</th>\n",
       "      <td>TF</td>\n",
       "      <td>OTHMF</td>\n",
       "      <td>ON</td>\n",
       "      <td>CA</td>\n",
       "      <td>AB</td>\n",
       "      <td>CA</td>\n",
       "      <td>127</td>\n",
       "      <td>138,919.10</td>\n",
       "      <td>100,204.10</td>\n",
       "      <td>478,640.00</td>\n",
       "      <td>523,088.60</td>\n",
       "      <td>1,634,366.40</td>\n",
       "    </tr>\n",
       "    <tr>\n",
       "      <th>2</th>\n",
       "      <td>TF</td>\n",
       "      <td>OTHMF</td>\n",
       "      <td>ON</td>\n",
       "      <td>CA</td>\n",
       "      <td>BC</td>\n",
       "      <td>CA</td>\n",
       "      <td>42</td>\n",
       "      <td>22,850.60</td>\n",
       "      <td>52,947.40</td>\n",
       "      <td>196,805.00</td>\n",
       "      <td>107,261.20</td>\n",
       "      <td>1,258,757.70</td>\n",
       "    </tr>\n",
       "    <tr>\n",
       "      <th>3</th>\n",
       "      <td>TF</td>\n",
       "      <td>OTHMF</td>\n",
       "      <td>MB</td>\n",
       "      <td>CA</td>\n",
       "      <td>QC</td>\n",
       "      <td>CA</td>\n",
       "      <td>49</td>\n",
       "      <td>612,882.10</td>\n",
       "      <td>292,874.20</td>\n",
       "      <td>185,448.00</td>\n",
       "      <td>2,374,926.80</td>\n",
       "      <td>8,193,369.40</td>\n",
       "    </tr>\n",
       "    <tr>\n",
       "      <th>4</th>\n",
       "      <td>TF</td>\n",
       "      <td>OTHMF</td>\n",
       "      <td>MB</td>\n",
       "      <td>CA</td>\n",
       "      <td>ON</td>\n",
       "      <td>CA</td>\n",
       "      <td>17</td>\n",
       "      <td>15,362.50</td>\n",
       "      <td>13,966.20</td>\n",
       "      <td>36,060.00</td>\n",
       "      <td>32,817.00</td>\n",
       "      <td>299,427.20</td>\n",
       "    </tr>\n",
       "    <tr>\n",
       "      <th>...</th>\n",
       "      <td>...</td>\n",
       "      <td>...</td>\n",
       "      <td>...</td>\n",
       "      <td>...</td>\n",
       "      <td>...</td>\n",
       "      <td>...</td>\n",
       "      <td>...</td>\n",
       "      <td>...</td>\n",
       "      <td>...</td>\n",
       "      <td>...</td>\n",
       "      <td>...</td>\n",
       "      <td>...</td>\n",
       "    </tr>\n",
       "    <tr>\n",
       "      <th>58716</th>\n",
       "      <td>TF</td>\n",
       "      <td>PLCHM</td>\n",
       "      <td>ON</td>\n",
       "      <td>CA</td>\n",
       "      <td>MB</td>\n",
       "      <td>CA</td>\n",
       "      <td>712.6</td>\n",
       "      <td>1,676,208.90</td>\n",
       "      <td>487,791.70</td>\n",
       "      <td>1,684,656.20</td>\n",
       "      <td>4,036,721.60</td>\n",
       "      <td>14,417,142.70</td>\n",
       "    </tr>\n",
       "    <tr>\n",
       "      <th>58717</th>\n",
       "      <td>TF</td>\n",
       "      <td>PLCHM</td>\n",
       "      <td>ON</td>\n",
       "      <td>CA</td>\n",
       "      <td>BC</td>\n",
       "      <td>CA</td>\n",
       "      <td>1,706.20</td>\n",
       "      <td>3,899,398.10</td>\n",
       "      <td>1,232,055.40</td>\n",
       "      <td>7,419,028.60</td>\n",
       "      <td>16,149,636.10</td>\n",
       "      <td>22,885,575.00</td>\n",
       "    </tr>\n",
       "    <tr>\n",
       "      <th>58718</th>\n",
       "      <td>TF</td>\n",
       "      <td>PLCHM</td>\n",
       "      <td>ON</td>\n",
       "      <td>CA</td>\n",
       "      <td>PE</td>\n",
       "      <td>CA</td>\n",
       "      <td>5</td>\n",
       "      <td>3,084.50</td>\n",
       "      <td>1,417.40</td>\n",
       "      <td>8,230.00</td>\n",
       "      <td>5,077.10</td>\n",
       "      <td>13,809.90</td>\n",
       "    </tr>\n",
       "    <tr>\n",
       "      <th>58719</th>\n",
       "      <td>TF</td>\n",
       "      <td>PLCHM</td>\n",
       "      <td>ON</td>\n",
       "      <td>CA</td>\n",
       "      <td>QC</td>\n",
       "      <td>CA</td>\n",
       "      <td>2,439.00</td>\n",
       "      <td>5,432,221.60</td>\n",
       "      <td>889,574.30</td>\n",
       "      <td>1,192,550.90</td>\n",
       "      <td>2,530,356.30</td>\n",
       "      <td>29,435,070.30</td>\n",
       "    </tr>\n",
       "    <tr>\n",
       "      <th>58720</th>\n",
       "      <td>TF</td>\n",
       "      <td>PLCHM</td>\n",
       "      <td>ON</td>\n",
       "      <td>CA</td>\n",
       "      <td>MB</td>\n",
       "      <td>CA</td>\n",
       "      <td>28</td>\n",
       "      <td>10,777.20</td>\n",
       "      <td>50,918.30</td>\n",
       "      <td>71,358.70</td>\n",
       "      <td>26,171.00</td>\n",
       "      <td>49,892.40</td>\n",
       "    </tr>\n",
       "  </tbody>\n",
       "</table>\n",
       "<p>58721 rows × 12 columns</p>\n",
       "</div>"
      ],
      "text/plain": [
       "      Mode SCTGGroup OrigProv OrigCtry DestProv DestCtry Shipments  \\\n",
       "0       TF     OTHMF       ON       CA       AB       CA        59   \n",
       "1       TF     OTHMF       ON       CA       AB       CA       127   \n",
       "2       TF     OTHMF       ON       CA       BC       CA        42   \n",
       "3       TF     OTHMF       MB       CA       QC       CA        49   \n",
       "4       TF     OTHMF       MB       CA       ON       CA        17   \n",
       "...    ...       ...      ...      ...      ...      ...       ...   \n",
       "58716   TF     PLCHM       ON       CA       MB       CA     712.6   \n",
       "58717   TF     PLCHM       ON       CA       BC       CA  1,706.20   \n",
       "58718   TF     PLCHM       ON       CA       PE       CA         5   \n",
       "58719   TF     PLCHM       ON       CA       QC       CA  2,439.00   \n",
       "58720   TF     PLCHM       ON       CA       MB       CA        28   \n",
       "\n",
       "             Weight       Revenue      Distance        TonneKm          Value  \n",
       "0         28,284.20     58,508.90    220,471.00     105,783.50     560,727.50  \n",
       "1        138,919.10    100,204.10    478,640.00     523,088.60   1,634,366.40  \n",
       "2         22,850.60     52,947.40    196,805.00     107,261.20   1,258,757.70  \n",
       "3        612,882.10    292,874.20    185,448.00   2,374,926.80   8,193,369.40  \n",
       "4         15,362.50     13,966.20     36,060.00      32,817.00     299,427.20  \n",
       "...             ...           ...           ...            ...            ...  \n",
       "58716  1,676,208.90    487,791.70  1,684,656.20   4,036,721.60  14,417,142.70  \n",
       "58717  3,899,398.10  1,232,055.40  7,419,028.60  16,149,636.10  22,885,575.00  \n",
       "58718      3,084.50      1,417.40      8,230.00       5,077.10      13,809.90  \n",
       "58719  5,432,221.60    889,574.30  1,192,550.90   2,530,356.30  29,435,070.30  \n",
       "58720     10,777.20     50,918.30     71,358.70      26,171.00      49,892.40  \n",
       "\n",
       "[58721 rows x 12 columns]"
      ]
     },
     "execution_count": 8,
     "metadata": {},
     "output_type": "execute_result"
    }
   ],
   "source": [
    "cat_df"
   ]
  },
  {
   "cell_type": "markdown",
   "id": "fe1a4e5e",
   "metadata": {},
   "source": [
    "### 1. Mode"
   ]
  },
  {
   "cell_type": "code",
   "execution_count": 9,
   "id": "df1b5aee",
   "metadata": {},
   "outputs": [
    {
     "data": {
      "text/plain": [
       "array(['TF', 'RL', 'AR'], dtype=object)"
      ]
     },
     "execution_count": 9,
     "metadata": {},
     "output_type": "execute_result"
    }
   ],
   "source": [
    "cat_df[\"Mode\"].unique()\n",
    "\n",
    "# ordinal encoding"
   ]
  },
  {
   "cell_type": "code",
   "execution_count": 10,
   "id": "37c139b8",
   "metadata": {},
   "outputs": [
    {
     "data": {
      "text/plain": [
       "TF    39081\n",
       "RL    17497\n",
       "AR     2143\n",
       "Name: Mode, dtype: int64"
      ]
     },
     "execution_count": 10,
     "metadata": {},
     "output_type": "execute_result"
    }
   ],
   "source": [
    "cat_df[\"Mode\"].value_counts()"
   ]
  },
  {
   "cell_type": "code",
   "execution_count": 11,
   "id": "f8673ac4",
   "metadata": {},
   "outputs": [
    {
     "data": {
      "image/png": "[encoded data removed]",
      "text/plain": [
       "<Figure size 569.25x500 with 1 Axes>"
      ]
     },
     "metadata": {},
     "output_type": "display_data"
    }
   ],
   "source": [
    "sns.displot(data=cat_df,x='Mode',kind='hist', hue = cat_df['Mode'])  #Univariate anaylsis\n",
    "plt.show()"
   ]
  },
  {
   "cell_type": "markdown",
   "id": "db593333",
   "metadata": {},
   "source": [
    "### SCTGGroup"
   ]
  },
  {
   "cell_type": "code",
   "execution_count": 12,
   "id": "79a284c4",
   "metadata": {},
   "outputs": [
    {
     "data": {
      "text/plain": [
       "array(['OTHMF', 'PLCHM', 'AGRI', 'MNRLS', 'BMETL', 'WASTE', 'MISC',\n",
       "       'TRANS', 'FRPAP', 'FUELS', 'COAL', 'FOOD'], dtype=object)"
      ]
     },
     "execution_count": 12,
     "metadata": {},
     "output_type": "execute_result"
    }
   ],
   "source": [
    "cat_df[\"SCTGGroup\"].unique()"
   ]
  },
  {
   "cell_type": "code",
   "execution_count": 13,
   "id": "479062dd",
   "metadata": {},
   "outputs": [
    {
     "data": {
      "text/plain": [
       "0"
      ]
     },
     "execution_count": 13,
     "metadata": {},
     "output_type": "execute_result"
    }
   ],
   "source": [
    "cat_df[\"SCTGGroup\"].isna().sum()"
   ]
  },
  {
   "cell_type": "code",
   "execution_count": 14,
   "id": "a2e551da",
   "metadata": {},
   "outputs": [
    {
     "data": {
      "text/plain": [
       "<Figure size 2800x800 with 0 Axes>"
      ]
     },
     "metadata": {},
     "output_type": "display_data"
    },
    {
     "data": {
      "image/png": "[encoded data removed]",
      "text/plain": [
       "<Figure size 599.875x500 with 1 Axes>"
      ]
     },
     "metadata": {},
     "output_type": "display_data"
    }
   ],
   "source": [
    "plt.figure(figsize=(28,8))\n",
    "sns.displot(data=cat_df,y='SCTGGroup',kind='hist', hue= 'SCTGGroup')\n",
    "plt.show()\n",
    "\n",
    "# onehot encoding"
   ]
  },
  {
   "cell_type": "markdown",
   "id": "98bc88ca",
   "metadata": {},
   "source": [
    "## OrigProv"
   ]
  },
  {
   "cell_type": "code",
   "execution_count": 15,
   "id": "21db72b2",
   "metadata": {},
   "outputs": [
    {
     "data": {
      "text/plain": [
       "array(['ON', 'MB', 'SK', 'UM', 'NS', 'QC', 'AB', 'BC', 'NB', 'NL', 'NT',\n",
       "       'NU', 'OI', 'PE', 'YT'], dtype=object)"
      ]
     },
     "execution_count": 15,
     "metadata": {},
     "output_type": "execute_result"
    }
   ],
   "source": [
    "cat_df[\"OrigProv\"].unique()\n",
    "\n",
    "# one hot encoding"
   ]
  },
  {
   "cell_type": "code",
   "execution_count": 16,
   "id": "793262fc",
   "metadata": {},
   "outputs": [
    {
     "data": {
      "text/plain": [
       "0"
      ]
     },
     "execution_count": 16,
     "metadata": {},
     "output_type": "execute_result"
    }
   ],
   "source": [
    "cat_df[\"OrigProv\"].isna().sum()"
   ]
  },
  {
   "cell_type": "code",
   "execution_count": 17,
   "id": "95f0a1f8",
   "metadata": {},
   "outputs": [
    {
     "data": {
      "text/plain": [
       "<Figure size 2800x800 with 0 Axes>"
      ]
     },
     "metadata": {},
     "output_type": "display_data"
    },
    {
     "data": {
      "image/png": "[encoded data removed]",
      "text/plain": [
       "<Figure size 572.25x500 with 1 Axes>"
      ]
     },
     "metadata": {},
     "output_type": "display_data"
    }
   ],
   "source": [
    "plt.figure(figsize=(28,8))\n",
    "sns.displot(data=cat_df,y='OrigProv',kind='hist', hue= 'OrigProv')\n",
    "plt.show()"
   ]
  },
  {
   "cell_type": "code",
   "execution_count": 18,
   "id": "bf9e5f37",
   "metadata": {},
   "outputs": [
    {
     "data": {
      "image/png": "[encoded data removed]",
      "text/plain": [
       "<Figure size 500x500 with 1 Axes>"
      ]
     },
     "metadata": {},
     "output_type": "display_data"
    }
   ],
   "source": [
    "sns.displot(data=cat_df,y='OrigProv',kind='hist')\n",
    "plt.show()"
   ]
  },
  {
   "cell_type": "markdown",
   "id": "2076d0c9",
   "metadata": {},
   "source": [
    "### OrigCtry"
   ]
  },
  {
   "cell_type": "code",
   "execution_count": 19,
   "id": "b6cda922",
   "metadata": {},
   "outputs": [
    {
     "data": {
      "text/plain": [
       "array(['CA', 'UM', 'OI'], dtype=object)"
      ]
     },
     "execution_count": 19,
     "metadata": {},
     "output_type": "execute_result"
    }
   ],
   "source": [
    "cat_df[\"OrigCtry\"].unique()\n",
    "\n",
    "# ordinal encoding"
   ]
  },
  {
   "cell_type": "code",
   "execution_count": 20,
   "id": "ca16ac47",
   "metadata": {},
   "outputs": [
    {
     "data": {
      "text/plain": [
       "0"
      ]
     },
     "execution_count": 20,
     "metadata": {},
     "output_type": "execute_result"
    }
   ],
   "source": [
    "cat_df[\"OrigCtry\"].isna().sum()\n"
   ]
  },
  {
   "cell_type": "code",
   "execution_count": 21,
   "id": "4688af04",
   "metadata": {},
   "outputs": [
    {
     "data": {
      "image/png": "[encoded data removed]",
      "text/plain": [
       "<Figure size 640x480 with 1 Axes>"
      ]
     },
     "metadata": {},
     "output_type": "display_data"
    }
   ],
   "source": [
    "sns.histplot(data=cat_df,x=\"OrigCtry\",hue='OrigCtry')\n",
    "plt.show()"
   ]
  },
  {
   "cell_type": "markdown",
   "id": "7e5a67aa",
   "metadata": {},
   "source": [
    "### DestProv\t"
   ]
  },
  {
   "cell_type": "code",
   "execution_count": 22,
   "id": "ef7aaa23",
   "metadata": {},
   "outputs": [
    {
     "data": {
      "text/plain": [
       "array(['AB', 'BC', 'QC', 'ON', 'MB', 'SK', 'NB', 'UM', 'NS', 'NT', 'PE',\n",
       "       'NL', 'YT', 'OI', 'NU'], dtype=object)"
      ]
     },
     "execution_count": 22,
     "metadata": {},
     "output_type": "execute_result"
    }
   ],
   "source": [
    "cat_df[\"DestProv\"].unique()\n",
    "# one hot encoding"
   ]
  },
  {
   "cell_type": "code",
   "execution_count": 23,
   "id": "84fa77a3",
   "metadata": {},
   "outputs": [
    {
     "data": {
      "text/plain": [
       "0"
      ]
     },
     "execution_count": 23,
     "metadata": {},
     "output_type": "execute_result"
    }
   ],
   "source": [
    "cat_df[\"DestProv\"].isna().sum()"
   ]
  },
  {
   "cell_type": "code",
   "execution_count": 24,
   "id": "674aa0d4",
   "metadata": {},
   "outputs": [
    {
     "data": {
      "image/png": "[encoded data removed]",
      "text/plain": [
       "<Figure size 640x480 with 1 Axes>"
      ]
     },
     "metadata": {},
     "output_type": "display_data"
    }
   ],
   "source": [
    "sns.histplot(data=cat_df,y=\"DestProv\",hue='DestProv')\n",
    "plt.show()"
   ]
  },
  {
   "cell_type": "code",
   "execution_count": 25,
   "id": "17f4c628",
   "metadata": {},
   "outputs": [
    {
     "data": {
      "text/html": [
       "<div>\n",
       "<style scoped>\n",
       "    .dataframe tbody tr th:only-of-type {\n",
       "        vertical-align: middle;\n",
       "    }\n",
       "\n",
       "    .dataframe tbody tr th {\n",
       "        vertical-align: top;\n",
       "    }\n",
       "\n",
       "    .dataframe thead th {\n",
       "        text-align: right;\n",
       "    }\n",
       "</style>\n",
       "<table border=\"1\" class=\"dataframe\">\n",
       "  <thead>\n",
       "    <tr style=\"text-align: right;\">\n",
       "      <th></th>\n",
       "      <th>Mode</th>\n",
       "      <th>SCTGGroup</th>\n",
       "      <th>OrigProv</th>\n",
       "      <th>OrigCtry</th>\n",
       "      <th>DestProv</th>\n",
       "      <th>DestCtry</th>\n",
       "      <th>Shipments</th>\n",
       "      <th>Weight</th>\n",
       "      <th>Revenue</th>\n",
       "      <th>Distance</th>\n",
       "      <th>TonneKm</th>\n",
       "      <th>Value</th>\n",
       "    </tr>\n",
       "  </thead>\n",
       "  <tbody>\n",
       "    <tr>\n",
       "      <th>0</th>\n",
       "      <td>TF</td>\n",
       "      <td>OTHMF</td>\n",
       "      <td>ON</td>\n",
       "      <td>CA</td>\n",
       "      <td>AB</td>\n",
       "      <td>CA</td>\n",
       "      <td>59</td>\n",
       "      <td>28,284.20</td>\n",
       "      <td>58,508.90</td>\n",
       "      <td>220,471.00</td>\n",
       "      <td>105,783.50</td>\n",
       "      <td>560,727.50</td>\n",
       "    </tr>\n",
       "    <tr>\n",
       "      <th>1</th>\n",
       "      <td>TF</td>\n",
       "      <td>OTHMF</td>\n",
       "      <td>ON</td>\n",
       "      <td>CA</td>\n",
       "      <td>AB</td>\n",
       "      <td>CA</td>\n",
       "      <td>127</td>\n",
       "      <td>138,919.10</td>\n",
       "      <td>100,204.10</td>\n",
       "      <td>478,640.00</td>\n",
       "      <td>523,088.60</td>\n",
       "      <td>1,634,366.40</td>\n",
       "    </tr>\n",
       "    <tr>\n",
       "      <th>2</th>\n",
       "      <td>TF</td>\n",
       "      <td>OTHMF</td>\n",
       "      <td>ON</td>\n",
       "      <td>CA</td>\n",
       "      <td>BC</td>\n",
       "      <td>CA</td>\n",
       "      <td>42</td>\n",
       "      <td>22,850.60</td>\n",
       "      <td>52,947.40</td>\n",
       "      <td>196,805.00</td>\n",
       "      <td>107,261.20</td>\n",
       "      <td>1,258,757.70</td>\n",
       "    </tr>\n",
       "    <tr>\n",
       "      <th>3</th>\n",
       "      <td>TF</td>\n",
       "      <td>OTHMF</td>\n",
       "      <td>MB</td>\n",
       "      <td>CA</td>\n",
       "      <td>QC</td>\n",
       "      <td>CA</td>\n",
       "      <td>49</td>\n",
       "      <td>612,882.10</td>\n",
       "      <td>292,874.20</td>\n",
       "      <td>185,448.00</td>\n",
       "      <td>2,374,926.80</td>\n",
       "      <td>8,193,369.40</td>\n",
       "    </tr>\n",
       "    <tr>\n",
       "      <th>4</th>\n",
       "      <td>TF</td>\n",
       "      <td>OTHMF</td>\n",
       "      <td>MB</td>\n",
       "      <td>CA</td>\n",
       "      <td>ON</td>\n",
       "      <td>CA</td>\n",
       "      <td>17</td>\n",
       "      <td>15,362.50</td>\n",
       "      <td>13,966.20</td>\n",
       "      <td>36,060.00</td>\n",
       "      <td>32,817.00</td>\n",
       "      <td>299,427.20</td>\n",
       "    </tr>\n",
       "  </tbody>\n",
       "</table>\n",
       "</div>"
      ],
      "text/plain": [
       "  Mode SCTGGroup OrigProv OrigCtry DestProv DestCtry Shipments      Weight  \\\n",
       "0   TF     OTHMF       ON       CA       AB       CA        59   28,284.20   \n",
       "1   TF     OTHMF       ON       CA       AB       CA       127  138,919.10   \n",
       "2   TF     OTHMF       ON       CA       BC       CA        42   22,850.60   \n",
       "3   TF     OTHMF       MB       CA       QC       CA        49  612,882.10   \n",
       "4   TF     OTHMF       MB       CA       ON       CA        17   15,362.50   \n",
       "\n",
       "      Revenue    Distance       TonneKm         Value  \n",
       "0   58,508.90  220,471.00    105,783.50    560,727.50  \n",
       "1  100,204.10  478,640.00    523,088.60  1,634,366.40  \n",
       "2   52,947.40  196,805.00    107,261.20  1,258,757.70  \n",
       "3  292,874.20  185,448.00  2,374,926.80  8,193,369.40  \n",
       "4   13,966.20   36,060.00     32,817.00    299,427.20  "
      ]
     },
     "execution_count": 25,
     "metadata": {},
     "output_type": "execute_result"
    }
   ],
   "source": [
    "cat_df.head()"
   ]
  },
  {
   "cell_type": "markdown",
   "id": "1637b3e5",
   "metadata": {},
   "source": [
    "## DestCtry"
   ]
  },
  {
   "cell_type": "code",
   "execution_count": 26,
   "id": "91c5a749",
   "metadata": {},
   "outputs": [
    {
     "data": {
      "text/plain": [
       "array(['CA', 'UM', 'OI'], dtype=object)"
      ]
     },
     "execution_count": 26,
     "metadata": {},
     "output_type": "execute_result"
    }
   ],
   "source": [
    "cat_df[\"DestCtry\"].unique()\n",
    "\n",
    "# ordinal Encoding"
   ]
  },
  {
   "cell_type": "code",
   "execution_count": 27,
   "id": "d1cba07e",
   "metadata": {},
   "outputs": [
    {
     "data": {
      "image/png": "[encoded data removed]",
      "text/plain": [
       "<Figure size 640x480 with 1 Axes>"
      ]
     },
     "metadata": {},
     "output_type": "display_data"
    }
   ],
   "source": [
    "sns.countplot(data=cat_df,x=\"DestCtry\")\n",
    "plt.show()"
   ]
  },
  {
   "cell_type": "markdown",
   "id": "5f2186a0",
   "metadata": {},
   "source": [
    "## Shipments"
   ]
  },
  {
   "cell_type": "code",
   "execution_count": 28,
   "id": "24fd2b54",
   "metadata": {},
   "outputs": [
    {
     "data": {
      "text/plain": [
       "1560"
      ]
     },
     "execution_count": 28,
     "metadata": {},
     "output_type": "execute_result"
    }
   ],
   "source": [
    "cat_df[\"Shipments\"].isna().sum()\n",
    "\n",
    "# 1560 are null values available in this column\n",
    "# handle null values and typecasting"
   ]
  },
  {
   "cell_type": "code",
   "execution_count": 29,
   "id": "6e575ca7",
   "metadata": {},
   "outputs": [
    {
     "data": {
      "text/plain": [
       "58721"
      ]
     },
     "execution_count": 29,
     "metadata": {},
     "output_type": "execute_result"
    }
   ],
   "source": [
    "cat_df[\"Shipments\"].shape[0]"
   ]
  },
  {
   "cell_type": "code",
   "execution_count": 30,
   "id": "00f566a0",
   "metadata": {},
   "outputs": [
    {
     "data": {
      "text/plain": [
       "2.6566305069736553"
      ]
     },
     "execution_count": 30,
     "metadata": {},
     "output_type": "execute_result"
    }
   ],
   "source": [
    "cat_df[\"Shipments\"].isna().sum()/cat_df[\"Shipments\"].shape[0]*100\n",
    "\n",
    "# 2% null values in the Shipment column"
   ]
  },
  {
   "cell_type": "markdown",
   "id": "33b22bb5",
   "metadata": {},
   "source": [
    "### Weight"
   ]
  },
  {
   "cell_type": "code",
   "execution_count": 31,
   "id": "ecb98e80",
   "metadata": {},
   "outputs": [
    {
     "data": {
      "text/plain": [
       "50633"
      ]
     },
     "execution_count": 31,
     "metadata": {},
     "output_type": "execute_result"
    }
   ],
   "source": [
    "cat_df[\"Weight\"].nunique()"
   ]
  },
  {
   "cell_type": "code",
   "execution_count": 32,
   "id": "3a524545",
   "metadata": {},
   "outputs": [
    {
     "data": {
      "text/plain": [
       "dtype('O')"
      ]
     },
     "execution_count": 32,
     "metadata": {},
     "output_type": "execute_result"
    }
   ],
   "source": [
    "cat_df[\"Weight\"].dtype"
   ]
  },
  {
   "cell_type": "code",
   "execution_count": 33,
   "id": "b3f6872e",
   "metadata": {},
   "outputs": [
    {
     "data": {
      "text/plain": [
       "1560"
      ]
     },
     "execution_count": 33,
     "metadata": {},
     "output_type": "execute_result"
    }
   ],
   "source": [
    "cat_df[\"Weight\"].isna().sum()\n",
    "\n",
    "# Handle missing values and datatype"
   ]
  },
  {
   "cell_type": "code",
   "execution_count": 34,
   "id": "2efa67d6",
   "metadata": {},
   "outputs": [
    {
     "data": {
      "text/plain": [
       "2.6566305069736553"
      ]
     },
     "execution_count": 34,
     "metadata": {},
     "output_type": "execute_result"
    }
   ],
   "source": [
    "cat_df[\"Weight\"].isna().sum()/cat_df[\"Weight\"].shape[0]*100\n",
    "\n",
    "# 2% null values in the Shipment column"
   ]
  },
  {
   "cell_type": "markdown",
   "id": "31a83e05",
   "metadata": {},
   "source": [
    "### Revenue"
   ]
  },
  {
   "cell_type": "code",
   "execution_count": 35,
   "id": "3825d6bb",
   "metadata": {},
   "outputs": [
    {
     "data": {
      "text/plain": [
       "1560"
      ]
     },
     "execution_count": 35,
     "metadata": {},
     "output_type": "execute_result"
    }
   ],
   "source": [
    "cat_df[\"Revenue\"].isna().sum()"
   ]
  },
  {
   "cell_type": "code",
   "execution_count": 36,
   "id": "ea872534",
   "metadata": {},
   "outputs": [
    {
     "data": {
      "text/plain": [
       "dtype('O')"
      ]
     },
     "execution_count": 36,
     "metadata": {},
     "output_type": "execute_result"
    }
   ],
   "source": [
    "cat_df[\"Revenue\"].dtype\n",
    " \n",
    "# Handle missing values and datatype"
   ]
  },
  {
   "cell_type": "code",
   "execution_count": 37,
   "id": "348357f9",
   "metadata": {},
   "outputs": [
    {
     "data": {
      "text/plain": [
       "2.6566305069736553"
      ]
     },
     "execution_count": 37,
     "metadata": {},
     "output_type": "execute_result"
    }
   ],
   "source": [
    "cat_df[\"Revenue\"].isna().sum()/cat_df[\"Revenue\"].shape[0]*100\n",
    "\n",
    "# 2% null values in the Revenue column"
   ]
  },
  {
   "cell_type": "markdown",
   "id": "a0448f3e",
   "metadata": {},
   "source": [
    "## Distance"
   ]
  },
  {
   "cell_type": "code",
   "execution_count": 38,
   "id": "c5da27e9",
   "metadata": {},
   "outputs": [
    {
     "data": {
      "text/plain": [
       "array(['220,471.00', '478,640.00', '196,805.00', ..., '7,419,028.60',\n",
       "       '1,192,550.90', '71,358.70'], dtype=object)"
      ]
     },
     "execution_count": 38,
     "metadata": {},
     "output_type": "execute_result"
    }
   ],
   "source": [
    "cat_df[\"Distance\"].unique()"
   ]
  },
  {
   "cell_type": "code",
   "execution_count": 39,
   "id": "605f7e93",
   "metadata": {},
   "outputs": [
    {
     "data": {
      "text/plain": [
       "1560"
      ]
     },
     "execution_count": 39,
     "metadata": {},
     "output_type": "execute_result"
    }
   ],
   "source": [
    "cat_df[\"Distance\"].isna().sum()"
   ]
  },
  {
   "cell_type": "code",
   "execution_count": 40,
   "id": "afa1cb6c",
   "metadata": {},
   "outputs": [
    {
     "data": {
      "text/plain": [
       "dtype('O')"
      ]
     },
     "execution_count": 40,
     "metadata": {},
     "output_type": "execute_result"
    }
   ],
   "source": [
    "cat_df[\"Distance\"].dtype"
   ]
  },
  {
   "cell_type": "code",
   "execution_count": 41,
   "id": "6e3099d0",
   "metadata": {},
   "outputs": [
    {
     "data": {
      "text/plain": [
       "2.6566305069736553"
      ]
     },
     "execution_count": 41,
     "metadata": {},
     "output_type": "execute_result"
    }
   ],
   "source": [
    "cat_df[\"Distance\"].isna().sum()/cat_df[\"Distance\"].shape[0]*100\n",
    "\n",
    "# 2% null values in the Shipment column"
   ]
  },
  {
   "cell_type": "markdown",
   "id": "185e03c4",
   "metadata": {},
   "source": [
    "## TonneKm\t"
   ]
  },
  {
   "cell_type": "code",
   "execution_count": 42,
   "id": "ba4f7929",
   "metadata": {},
   "outputs": [
    {
     "data": {
      "text/plain": [
       "1560"
      ]
     },
     "execution_count": 42,
     "metadata": {},
     "output_type": "execute_result"
    }
   ],
   "source": [
    "cat_df[\"TonneKm\"].isna().sum()\n",
    "\n",
    "# Handle null values"
   ]
  },
  {
   "cell_type": "code",
   "execution_count": 43,
   "id": "363ab778",
   "metadata": {},
   "outputs": [
    {
     "data": {
      "text/plain": [
       "dtype('O')"
      ]
     },
     "execution_count": 43,
     "metadata": {},
     "output_type": "execute_result"
    }
   ],
   "source": [
    "cat_df[\"TonneKm\"].dtype"
   ]
  },
  {
   "cell_type": "markdown",
   "id": "80943fd6",
   "metadata": {},
   "source": [
    "## Value"
   ]
  },
  {
   "cell_type": "code",
   "execution_count": 44,
   "id": "d0a581c2",
   "metadata": {},
   "outputs": [
    {
     "data": {
      "text/plain": [
       "1560"
      ]
     },
     "execution_count": 44,
     "metadata": {},
     "output_type": "execute_result"
    }
   ],
   "source": [
    "cat_df[\"Value\"].isna().sum()"
   ]
  },
  {
   "cell_type": "code",
   "execution_count": 45,
   "id": "d643bd51",
   "metadata": {},
   "outputs": [
    {
     "data": {
      "text/html": [
       "<div>\n",
       "<style scoped>\n",
       "    .dataframe tbody tr th:only-of-type {\n",
       "        vertical-align: middle;\n",
       "    }\n",
       "\n",
       "    .dataframe tbody tr th {\n",
       "        vertical-align: top;\n",
       "    }\n",
       "\n",
       "    .dataframe thead th {\n",
       "        text-align: right;\n",
       "    }\n",
       "</style>\n",
       "<table border=\"1\" class=\"dataframe\">\n",
       "  <thead>\n",
       "    <tr style=\"text-align: right;\">\n",
       "      <th></th>\n",
       "      <th>Mode</th>\n",
       "      <th>SCTGGroup</th>\n",
       "      <th>OrigProv</th>\n",
       "      <th>OrigCtry</th>\n",
       "      <th>DestProv</th>\n",
       "      <th>DestCtry</th>\n",
       "      <th>Shipments</th>\n",
       "      <th>Weight</th>\n",
       "      <th>Revenue</th>\n",
       "      <th>Distance</th>\n",
       "      <th>TonneKm</th>\n",
       "      <th>Value</th>\n",
       "    </tr>\n",
       "  </thead>\n",
       "  <tbody>\n",
       "    <tr>\n",
       "      <th>0</th>\n",
       "      <td>TF</td>\n",
       "      <td>OTHMF</td>\n",
       "      <td>ON</td>\n",
       "      <td>CA</td>\n",
       "      <td>AB</td>\n",
       "      <td>CA</td>\n",
       "      <td>59</td>\n",
       "      <td>28,284.20</td>\n",
       "      <td>58,508.90</td>\n",
       "      <td>220,471.00</td>\n",
       "      <td>105,783.50</td>\n",
       "      <td>560,727.50</td>\n",
       "    </tr>\n",
       "    <tr>\n",
       "      <th>1</th>\n",
       "      <td>TF</td>\n",
       "      <td>OTHMF</td>\n",
       "      <td>ON</td>\n",
       "      <td>CA</td>\n",
       "      <td>AB</td>\n",
       "      <td>CA</td>\n",
       "      <td>127</td>\n",
       "      <td>138,919.10</td>\n",
       "      <td>100,204.10</td>\n",
       "      <td>478,640.00</td>\n",
       "      <td>523,088.60</td>\n",
       "      <td>1,634,366.40</td>\n",
       "    </tr>\n",
       "    <tr>\n",
       "      <th>2</th>\n",
       "      <td>TF</td>\n",
       "      <td>OTHMF</td>\n",
       "      <td>ON</td>\n",
       "      <td>CA</td>\n",
       "      <td>BC</td>\n",
       "      <td>CA</td>\n",
       "      <td>42</td>\n",
       "      <td>22,850.60</td>\n",
       "      <td>52,947.40</td>\n",
       "      <td>196,805.00</td>\n",
       "      <td>107,261.20</td>\n",
       "      <td>1,258,757.70</td>\n",
       "    </tr>\n",
       "    <tr>\n",
       "      <th>3</th>\n",
       "      <td>TF</td>\n",
       "      <td>OTHMF</td>\n",
       "      <td>MB</td>\n",
       "      <td>CA</td>\n",
       "      <td>QC</td>\n",
       "      <td>CA</td>\n",
       "      <td>49</td>\n",
       "      <td>612,882.10</td>\n",
       "      <td>292,874.20</td>\n",
       "      <td>185,448.00</td>\n",
       "      <td>2,374,926.80</td>\n",
       "      <td>8,193,369.40</td>\n",
       "    </tr>\n",
       "    <tr>\n",
       "      <th>4</th>\n",
       "      <td>TF</td>\n",
       "      <td>OTHMF</td>\n",
       "      <td>MB</td>\n",
       "      <td>CA</td>\n",
       "      <td>ON</td>\n",
       "      <td>CA</td>\n",
       "      <td>17</td>\n",
       "      <td>15,362.50</td>\n",
       "      <td>13,966.20</td>\n",
       "      <td>36,060.00</td>\n",
       "      <td>32,817.00</td>\n",
       "      <td>299,427.20</td>\n",
       "    </tr>\n",
       "  </tbody>\n",
       "</table>\n",
       "</div>"
      ],
      "text/plain": [
       "  Mode SCTGGroup OrigProv OrigCtry DestProv DestCtry Shipments      Weight  \\\n",
       "0   TF     OTHMF       ON       CA       AB       CA        59   28,284.20   \n",
       "1   TF     OTHMF       ON       CA       AB       CA       127  138,919.10   \n",
       "2   TF     OTHMF       ON       CA       BC       CA        42   22,850.60   \n",
       "3   TF     OTHMF       MB       CA       QC       CA        49  612,882.10   \n",
       "4   TF     OTHMF       MB       CA       ON       CA        17   15,362.50   \n",
       "\n",
       "      Revenue    Distance       TonneKm         Value  \n",
       "0   58,508.90  220,471.00    105,783.50    560,727.50  \n",
       "1  100,204.10  478,640.00    523,088.60  1,634,366.40  \n",
       "2   52,947.40  196,805.00    107,261.20  1,258,757.70  \n",
       "3  292,874.20  185,448.00  2,374,926.80  8,193,369.40  \n",
       "4   13,966.20   36,060.00     32,817.00    299,427.20  "
      ]
     },
     "execution_count": 45,
     "metadata": {},
     "output_type": "execute_result"
    }
   ],
   "source": [
    "cat_df.head()"
   ]
  },
  {
   "cell_type": "code",
   "execution_count": null,
   "id": "74f83260",
   "metadata": {},
   "outputs": [],
   "source": []
  },
  {
   "cell_type": "code",
   "execution_count": null,
   "id": "59ff0049",
   "metadata": {},
   "outputs": [],
   "source": []
  },
  {
   "cell_type": "markdown",
   "id": "e317a3f4",
   "metadata": {},
   "source": [
    "## Numerical DF"
   ]
  },
  {
   "cell_type": "code",
   "execution_count": 46,
   "id": "78c468d1",
   "metadata": {},
   "outputs": [
    {
     "data": {
      "text/html": [
       "<div>\n",
       "<style scoped>\n",
       "    .dataframe tbody tr th:only-of-type {\n",
       "        vertical-align: middle;\n",
       "    }\n",
       "\n",
       "    .dataframe tbody tr th {\n",
       "        vertical-align: top;\n",
       "    }\n",
       "\n",
       "    .dataframe thead th {\n",
       "        text-align: right;\n",
       "    }\n",
       "</style>\n",
       "<table border=\"1\" class=\"dataframe\">\n",
       "  <thead>\n",
       "    <tr style=\"text-align: right;\">\n",
       "      <th></th>\n",
       "      <th>Year</th>\n",
       "      <th>OrigCMA</th>\n",
       "      <th>DestCMA</th>\n",
       "    </tr>\n",
       "  </thead>\n",
       "  <tbody>\n",
       "    <tr>\n",
       "      <th>0</th>\n",
       "      <td>2011</td>\n",
       "      <td>559</td>\n",
       "      <td>825</td>\n",
       "    </tr>\n",
       "    <tr>\n",
       "      <th>1</th>\n",
       "      <td>2011</td>\n",
       "      <td>559</td>\n",
       "      <td>835</td>\n",
       "    </tr>\n",
       "    <tr>\n",
       "      <th>2</th>\n",
       "      <td>2011</td>\n",
       "      <td>559</td>\n",
       "      <td>933</td>\n",
       "    </tr>\n",
       "    <tr>\n",
       "      <th>3</th>\n",
       "      <td>2011</td>\n",
       "      <td>600</td>\n",
       "      <td>421</td>\n",
       "    </tr>\n",
       "    <tr>\n",
       "      <th>4</th>\n",
       "      <td>2011</td>\n",
       "      <td>600</td>\n",
       "      <td>537</td>\n",
       "    </tr>\n",
       "  </tbody>\n",
       "</table>\n",
       "</div>"
      ],
      "text/plain": [
       "   Year  OrigCMA  DestCMA\n",
       "0  2011      559      825\n",
       "1  2011      559      835\n",
       "2  2011      559      933\n",
       "3  2011      600      421\n",
       "4  2011      600      537"
      ]
     },
     "execution_count": 46,
     "metadata": {},
     "output_type": "execute_result"
    }
   ],
   "source": [
    "num_df.head()"
   ]
  },
  {
   "cell_type": "code",
   "execution_count": 47,
   "id": "76ba98a1",
   "metadata": {},
   "outputs": [
    {
     "data": {
      "text/plain": [
       "Year       0\n",
       "OrigCMA    0\n",
       "DestCMA    0\n",
       "dtype: int64"
      ]
     },
     "execution_count": 47,
     "metadata": {},
     "output_type": "execute_result"
    }
   ],
   "source": [
    "num_df.isna().sum()"
   ]
  },
  {
   "cell_type": "markdown",
   "id": "234bb082",
   "metadata": {},
   "source": [
    "## feature engineering"
   ]
  },
  {
   "cell_type": "raw",
   "id": "3316a2ba",
   "metadata": {},
   "source": [
    "# mode - ordinal\n",
    "#SCTGGroup  - Onehot\n",
    "\n",
    "#OrigProv - ohe\n",
    "# OrigCtry - ordinal\n",
    "#DestProv - ohe\n",
    "#DestCtry - ordinal\n",
    "Shipments - null val/typecasting\n",
    "Weight/Revenue/Distance/TonneKm/value - Handle missing values and datatype"
   ]
  },
  {
   "cell_type": "markdown",
   "id": "c0a827c2",
   "metadata": {},
   "source": [
    "### ordinal encding for Mode, origCtry,DestCtry"
   ]
  },
  {
   "cell_type": "code",
   "execution_count": 48,
   "id": "6051d0eb",
   "metadata": {},
   "outputs": [
    {
     "data": {
      "text/plain": [
       "array(['TF', 'RL', 'AR'], dtype=object)"
      ]
     },
     "execution_count": 48,
     "metadata": {},
     "output_type": "execute_result"
    }
   ],
   "source": [
    "cat_df[\"Mode\"].unique()"
   ]
  },
  {
   "cell_type": "code",
   "execution_count": 49,
   "id": "e8a20fe5",
   "metadata": {},
   "outputs": [
    {
     "data": {
      "text/html": [
       "<div>\n",
       "<style scoped>\n",
       "    .dataframe tbody tr th:only-of-type {\n",
       "        vertical-align: middle;\n",
       "    }\n",
       "\n",
       "    .dataframe tbody tr th {\n",
       "        vertical-align: top;\n",
       "    }\n",
       "\n",
       "    .dataframe thead th {\n",
       "        text-align: right;\n",
       "    }\n",
       "</style>\n",
       "<table border=\"1\" class=\"dataframe\">\n",
       "  <thead>\n",
       "    <tr style=\"text-align: right;\">\n",
       "      <th></th>\n",
       "      <th>Mode</th>\n",
       "      <th>SCTGGroup</th>\n",
       "      <th>OrigProv</th>\n",
       "      <th>OrigCtry</th>\n",
       "      <th>DestProv</th>\n",
       "      <th>DestCtry</th>\n",
       "      <th>Shipments</th>\n",
       "      <th>Weight</th>\n",
       "      <th>Revenue</th>\n",
       "      <th>Distance</th>\n",
       "      <th>TonneKm</th>\n",
       "      <th>Value</th>\n",
       "    </tr>\n",
       "  </thead>\n",
       "  <tbody>\n",
       "    <tr>\n",
       "      <th>0</th>\n",
       "      <td>0.0</td>\n",
       "      <td>OTHMF</td>\n",
       "      <td>ON</td>\n",
       "      <td>CA</td>\n",
       "      <td>AB</td>\n",
       "      <td>CA</td>\n",
       "      <td>59</td>\n",
       "      <td>28,284.20</td>\n",
       "      <td>58,508.90</td>\n",
       "      <td>220,471.00</td>\n",
       "      <td>105,783.50</td>\n",
       "      <td>560,727.50</td>\n",
       "    </tr>\n",
       "    <tr>\n",
       "      <th>1</th>\n",
       "      <td>0.0</td>\n",
       "      <td>OTHMF</td>\n",
       "      <td>ON</td>\n",
       "      <td>CA</td>\n",
       "      <td>AB</td>\n",
       "      <td>CA</td>\n",
       "      <td>127</td>\n",
       "      <td>138,919.10</td>\n",
       "      <td>100,204.10</td>\n",
       "      <td>478,640.00</td>\n",
       "      <td>523,088.60</td>\n",
       "      <td>1,634,366.40</td>\n",
       "    </tr>\n",
       "    <tr>\n",
       "      <th>2</th>\n",
       "      <td>0.0</td>\n",
       "      <td>OTHMF</td>\n",
       "      <td>ON</td>\n",
       "      <td>CA</td>\n",
       "      <td>BC</td>\n",
       "      <td>CA</td>\n",
       "      <td>42</td>\n",
       "      <td>22,850.60</td>\n",
       "      <td>52,947.40</td>\n",
       "      <td>196,805.00</td>\n",
       "      <td>107,261.20</td>\n",
       "      <td>1,258,757.70</td>\n",
       "    </tr>\n",
       "    <tr>\n",
       "      <th>3</th>\n",
       "      <td>0.0</td>\n",
       "      <td>OTHMF</td>\n",
       "      <td>MB</td>\n",
       "      <td>CA</td>\n",
       "      <td>QC</td>\n",
       "      <td>CA</td>\n",
       "      <td>49</td>\n",
       "      <td>612,882.10</td>\n",
       "      <td>292,874.20</td>\n",
       "      <td>185,448.00</td>\n",
       "      <td>2,374,926.80</td>\n",
       "      <td>8,193,369.40</td>\n",
       "    </tr>\n",
       "    <tr>\n",
       "      <th>4</th>\n",
       "      <td>0.0</td>\n",
       "      <td>OTHMF</td>\n",
       "      <td>MB</td>\n",
       "      <td>CA</td>\n",
       "      <td>ON</td>\n",
       "      <td>CA</td>\n",
       "      <td>17</td>\n",
       "      <td>15,362.50</td>\n",
       "      <td>13,966.20</td>\n",
       "      <td>36,060.00</td>\n",
       "      <td>32,817.00</td>\n",
       "      <td>299,427.20</td>\n",
       "    </tr>\n",
       "  </tbody>\n",
       "</table>\n",
       "</div>"
      ],
      "text/plain": [
       "   Mode SCTGGroup OrigProv OrigCtry DestProv DestCtry Shipments      Weight  \\\n",
       "0   0.0     OTHMF       ON       CA       AB       CA        59   28,284.20   \n",
       "1   0.0     OTHMF       ON       CA       AB       CA       127  138,919.10   \n",
       "2   0.0     OTHMF       ON       CA       BC       CA        42   22,850.60   \n",
       "3   0.0     OTHMF       MB       CA       QC       CA        49  612,882.10   \n",
       "4   0.0     OTHMF       MB       CA       ON       CA        17   15,362.50   \n",
       "\n",
       "      Revenue    Distance       TonneKm         Value  \n",
       "0   58,508.90  220,471.00    105,783.50    560,727.50  \n",
       "1  100,204.10  478,640.00    523,088.60  1,634,366.40  \n",
       "2   52,947.40  196,805.00    107,261.20  1,258,757.70  \n",
       "3  292,874.20  185,448.00  2,374,926.80  8,193,369.40  \n",
       "4   13,966.20   36,060.00     32,817.00    299,427.20  "
      ]
     },
     "execution_count": 49,
     "metadata": {},
     "output_type": "execute_result"
    }
   ],
   "source": [
    "ord_enc = OrdinalEncoder(categories=[['TF', 'RL', 'AR']])\n",
    "ord_enc.fit(cat_df[[\"Mode\"]])\n",
    "cat_df[\"Mode\"] = ord_enc.fit_transform(cat_df[[\"Mode\"]])\n",
    "cat_df.head(5)"
   ]
  },
  {
   "cell_type": "code",
   "execution_count": 50,
   "id": "9e33a5d0",
   "metadata": {},
   "outputs": [
    {
     "data": {
      "text/plain": [
       "dtype('float64')"
      ]
     },
     "execution_count": 50,
     "metadata": {},
     "output_type": "execute_result"
    }
   ],
   "source": [
    "cat_df[\"Mode\"].dtype"
   ]
  },
  {
   "cell_type": "code",
   "execution_count": 51,
   "id": "04a97cf5",
   "metadata": {},
   "outputs": [
    {
     "data": {
      "text/plain": [
       "array(['CA', 'UM', 'OI'], dtype=object)"
      ]
     },
     "execution_count": 51,
     "metadata": {},
     "output_type": "execute_result"
    }
   ],
   "source": [
    "cat_df[\"OrigCtry\"].unique()"
   ]
  },
  {
   "cell_type": "code",
   "execution_count": 52,
   "id": "4f58a46a",
   "metadata": {},
   "outputs": [
    {
     "data": {
      "text/html": [
       "<div>\n",
       "<style scoped>\n",
       "    .dataframe tbody tr th:only-of-type {\n",
       "        vertical-align: middle;\n",
       "    }\n",
       "\n",
       "    .dataframe tbody tr th {\n",
       "        vertical-align: top;\n",
       "    }\n",
       "\n",
       "    .dataframe thead th {\n",
       "        text-align: right;\n",
       "    }\n",
       "</style>\n",
       "<table border=\"1\" class=\"dataframe\">\n",
       "  <thead>\n",
       "    <tr style=\"text-align: right;\">\n",
       "      <th></th>\n",
       "      <th>Mode</th>\n",
       "      <th>SCTGGroup</th>\n",
       "      <th>OrigProv</th>\n",
       "      <th>OrigCtry</th>\n",
       "      <th>DestProv</th>\n",
       "      <th>DestCtry</th>\n",
       "      <th>Shipments</th>\n",
       "      <th>Weight</th>\n",
       "      <th>Revenue</th>\n",
       "      <th>Distance</th>\n",
       "      <th>TonneKm</th>\n",
       "      <th>Value</th>\n",
       "    </tr>\n",
       "  </thead>\n",
       "  <tbody>\n",
       "    <tr>\n",
       "      <th>0</th>\n",
       "      <td>0.0</td>\n",
       "      <td>OTHMF</td>\n",
       "      <td>ON</td>\n",
       "      <td>0.0</td>\n",
       "      <td>AB</td>\n",
       "      <td>CA</td>\n",
       "      <td>59</td>\n",
       "      <td>28,284.20</td>\n",
       "      <td>58,508.90</td>\n",
       "      <td>220,471.00</td>\n",
       "      <td>105,783.50</td>\n",
       "      <td>560,727.50</td>\n",
       "    </tr>\n",
       "    <tr>\n",
       "      <th>1</th>\n",
       "      <td>0.0</td>\n",
       "      <td>OTHMF</td>\n",
       "      <td>ON</td>\n",
       "      <td>0.0</td>\n",
       "      <td>AB</td>\n",
       "      <td>CA</td>\n",
       "      <td>127</td>\n",
       "      <td>138,919.10</td>\n",
       "      <td>100,204.10</td>\n",
       "      <td>478,640.00</td>\n",
       "      <td>523,088.60</td>\n",
       "      <td>1,634,366.40</td>\n",
       "    </tr>\n",
       "    <tr>\n",
       "      <th>2</th>\n",
       "      <td>0.0</td>\n",
       "      <td>OTHMF</td>\n",
       "      <td>ON</td>\n",
       "      <td>0.0</td>\n",
       "      <td>BC</td>\n",
       "      <td>CA</td>\n",
       "      <td>42</td>\n",
       "      <td>22,850.60</td>\n",
       "      <td>52,947.40</td>\n",
       "      <td>196,805.00</td>\n",
       "      <td>107,261.20</td>\n",
       "      <td>1,258,757.70</td>\n",
       "    </tr>\n",
       "    <tr>\n",
       "      <th>3</th>\n",
       "      <td>0.0</td>\n",
       "      <td>OTHMF</td>\n",
       "      <td>MB</td>\n",
       "      <td>0.0</td>\n",
       "      <td>QC</td>\n",
       "      <td>CA</td>\n",
       "      <td>49</td>\n",
       "      <td>612,882.10</td>\n",
       "      <td>292,874.20</td>\n",
       "      <td>185,448.00</td>\n",
       "      <td>2,374,926.80</td>\n",
       "      <td>8,193,369.40</td>\n",
       "    </tr>\n",
       "    <tr>\n",
       "      <th>4</th>\n",
       "      <td>0.0</td>\n",
       "      <td>OTHMF</td>\n",
       "      <td>MB</td>\n",
       "      <td>0.0</td>\n",
       "      <td>ON</td>\n",
       "      <td>CA</td>\n",
       "      <td>17</td>\n",
       "      <td>15,362.50</td>\n",
       "      <td>13,966.20</td>\n",
       "      <td>36,060.00</td>\n",
       "      <td>32,817.00</td>\n",
       "      <td>299,427.20</td>\n",
       "    </tr>\n",
       "  </tbody>\n",
       "</table>\n",
       "</div>"
      ],
      "text/plain": [
       "   Mode SCTGGroup OrigProv  OrigCtry DestProv DestCtry Shipments      Weight  \\\n",
       "0   0.0     OTHMF       ON       0.0       AB       CA        59   28,284.20   \n",
       "1   0.0     OTHMF       ON       0.0       AB       CA       127  138,919.10   \n",
       "2   0.0     OTHMF       ON       0.0       BC       CA        42   22,850.60   \n",
       "3   0.0     OTHMF       MB       0.0       QC       CA        49  612,882.10   \n",
       "4   0.0     OTHMF       MB       0.0       ON       CA        17   15,362.50   \n",
       "\n",
       "      Revenue    Distance       TonneKm         Value  \n",
       "0   58,508.90  220,471.00    105,783.50    560,727.50  \n",
       "1  100,204.10  478,640.00    523,088.60  1,634,366.40  \n",
       "2   52,947.40  196,805.00    107,261.20  1,258,757.70  \n",
       "3  292,874.20  185,448.00  2,374,926.80  8,193,369.40  \n",
       "4   13,966.20   36,060.00     32,817.00    299,427.20  "
      ]
     },
     "execution_count": 52,
     "metadata": {},
     "output_type": "execute_result"
    }
   ],
   "source": [
    "ord_enc = OrdinalEncoder(categories=[['CA', 'UM', 'OI']])\n",
    "ord_enc.fit(cat_df[[\"OrigCtry\"]])\n",
    "cat_df[\"OrigCtry\"] = ord_enc.fit_transform(cat_df[[\"OrigCtry\"]])\n",
    "cat_df.head()"
   ]
  },
  {
   "cell_type": "code",
   "execution_count": 53,
   "id": "6f383c9f",
   "metadata": {},
   "outputs": [],
   "source": [
    "cat_df.drop(\"DestCtry\",axis=1,inplace=True)"
   ]
  },
  {
   "cell_type": "markdown",
   "id": "9f930b47",
   "metadata": {},
   "source": [
    "### One-Hot-Encoding"
   ]
  },
  {
   "cell_type": "raw",
   "id": "6e7fa8fc",
   "metadata": {},
   "source": [
    "SCTGGroup  - Onehot\n",
    "OrigProv - ohe\n",
    "DestProv - ohe\n",
    "Shipments - null val/typecasting"
   ]
  },
  {
   "cell_type": "code",
   "execution_count": 54,
   "id": "e5433bd9",
   "metadata": {},
   "outputs": [
    {
     "data": {
      "text/html": [
       "<div>\n",
       "<style scoped>\n",
       "    .dataframe tbody tr th:only-of-type {\n",
       "        vertical-align: middle;\n",
       "    }\n",
       "\n",
       "    .dataframe tbody tr th {\n",
       "        vertical-align: top;\n",
       "    }\n",
       "\n",
       "    .dataframe thead th {\n",
       "        text-align: right;\n",
       "    }\n",
       "</style>\n",
       "<table border=\"1\" class=\"dataframe\">\n",
       "  <thead>\n",
       "    <tr style=\"text-align: right;\">\n",
       "      <th></th>\n",
       "      <th>OTHMF</th>\n",
       "      <th>PLCHM</th>\n",
       "      <th>AGRI</th>\n",
       "      <th>MNRLS</th>\n",
       "      <th>BMETL</th>\n",
       "      <th>WASTE</th>\n",
       "      <th>MISC</th>\n",
       "      <th>TRANS</th>\n",
       "      <th>FRPAP</th>\n",
       "      <th>FUELS</th>\n",
       "      <th>COAL</th>\n",
       "      <th>FOOD</th>\n",
       "    </tr>\n",
       "  </thead>\n",
       "  <tbody>\n",
       "    <tr>\n",
       "      <th>0</th>\n",
       "      <td>0.0</td>\n",
       "      <td>0.0</td>\n",
       "      <td>0.0</td>\n",
       "      <td>0.0</td>\n",
       "      <td>0.0</td>\n",
       "      <td>0.0</td>\n",
       "      <td>0.0</td>\n",
       "      <td>0.0</td>\n",
       "      <td>1.0</td>\n",
       "      <td>0.0</td>\n",
       "      <td>0.0</td>\n",
       "      <td>0.0</td>\n",
       "    </tr>\n",
       "    <tr>\n",
       "      <th>1</th>\n",
       "      <td>0.0</td>\n",
       "      <td>0.0</td>\n",
       "      <td>0.0</td>\n",
       "      <td>0.0</td>\n",
       "      <td>0.0</td>\n",
       "      <td>0.0</td>\n",
       "      <td>0.0</td>\n",
       "      <td>0.0</td>\n",
       "      <td>1.0</td>\n",
       "      <td>0.0</td>\n",
       "      <td>0.0</td>\n",
       "      <td>0.0</td>\n",
       "    </tr>\n",
       "    <tr>\n",
       "      <th>2</th>\n",
       "      <td>0.0</td>\n",
       "      <td>0.0</td>\n",
       "      <td>0.0</td>\n",
       "      <td>0.0</td>\n",
       "      <td>0.0</td>\n",
       "      <td>0.0</td>\n",
       "      <td>0.0</td>\n",
       "      <td>0.0</td>\n",
       "      <td>1.0</td>\n",
       "      <td>0.0</td>\n",
       "      <td>0.0</td>\n",
       "      <td>0.0</td>\n",
       "    </tr>\n",
       "    <tr>\n",
       "      <th>3</th>\n",
       "      <td>0.0</td>\n",
       "      <td>0.0</td>\n",
       "      <td>0.0</td>\n",
       "      <td>0.0</td>\n",
       "      <td>0.0</td>\n",
       "      <td>0.0</td>\n",
       "      <td>0.0</td>\n",
       "      <td>0.0</td>\n",
       "      <td>1.0</td>\n",
       "      <td>0.0</td>\n",
       "      <td>0.0</td>\n",
       "      <td>0.0</td>\n",
       "    </tr>\n",
       "    <tr>\n",
       "      <th>4</th>\n",
       "      <td>0.0</td>\n",
       "      <td>0.0</td>\n",
       "      <td>0.0</td>\n",
       "      <td>0.0</td>\n",
       "      <td>0.0</td>\n",
       "      <td>0.0</td>\n",
       "      <td>0.0</td>\n",
       "      <td>0.0</td>\n",
       "      <td>1.0</td>\n",
       "      <td>0.0</td>\n",
       "      <td>0.0</td>\n",
       "      <td>0.0</td>\n",
       "    </tr>\n",
       "    <tr>\n",
       "      <th>...</th>\n",
       "      <td>...</td>\n",
       "      <td>...</td>\n",
       "      <td>...</td>\n",
       "      <td>...</td>\n",
       "      <td>...</td>\n",
       "      <td>...</td>\n",
       "      <td>...</td>\n",
       "      <td>...</td>\n",
       "      <td>...</td>\n",
       "      <td>...</td>\n",
       "      <td>...</td>\n",
       "      <td>...</td>\n",
       "    </tr>\n",
       "    <tr>\n",
       "      <th>58716</th>\n",
       "      <td>0.0</td>\n",
       "      <td>0.0</td>\n",
       "      <td>0.0</td>\n",
       "      <td>0.0</td>\n",
       "      <td>0.0</td>\n",
       "      <td>0.0</td>\n",
       "      <td>0.0</td>\n",
       "      <td>0.0</td>\n",
       "      <td>0.0</td>\n",
       "      <td>1.0</td>\n",
       "      <td>0.0</td>\n",
       "      <td>0.0</td>\n",
       "    </tr>\n",
       "    <tr>\n",
       "      <th>58717</th>\n",
       "      <td>0.0</td>\n",
       "      <td>0.0</td>\n",
       "      <td>0.0</td>\n",
       "      <td>0.0</td>\n",
       "      <td>0.0</td>\n",
       "      <td>0.0</td>\n",
       "      <td>0.0</td>\n",
       "      <td>0.0</td>\n",
       "      <td>0.0</td>\n",
       "      <td>1.0</td>\n",
       "      <td>0.0</td>\n",
       "      <td>0.0</td>\n",
       "    </tr>\n",
       "    <tr>\n",
       "      <th>58718</th>\n",
       "      <td>0.0</td>\n",
       "      <td>0.0</td>\n",
       "      <td>0.0</td>\n",
       "      <td>0.0</td>\n",
       "      <td>0.0</td>\n",
       "      <td>0.0</td>\n",
       "      <td>0.0</td>\n",
       "      <td>0.0</td>\n",
       "      <td>0.0</td>\n",
       "      <td>1.0</td>\n",
       "      <td>0.0</td>\n",
       "      <td>0.0</td>\n",
       "    </tr>\n",
       "    <tr>\n",
       "      <th>58719</th>\n",
       "      <td>0.0</td>\n",
       "      <td>0.0</td>\n",
       "      <td>0.0</td>\n",
       "      <td>0.0</td>\n",
       "      <td>0.0</td>\n",
       "      <td>0.0</td>\n",
       "      <td>0.0</td>\n",
       "      <td>0.0</td>\n",
       "      <td>0.0</td>\n",
       "      <td>1.0</td>\n",
       "      <td>0.0</td>\n",
       "      <td>0.0</td>\n",
       "    </tr>\n",
       "    <tr>\n",
       "      <th>58720</th>\n",
       "      <td>0.0</td>\n",
       "      <td>0.0</td>\n",
       "      <td>0.0</td>\n",
       "      <td>0.0</td>\n",
       "      <td>0.0</td>\n",
       "      <td>0.0</td>\n",
       "      <td>0.0</td>\n",
       "      <td>0.0</td>\n",
       "      <td>0.0</td>\n",
       "      <td>1.0</td>\n",
       "      <td>0.0</td>\n",
       "      <td>0.0</td>\n",
       "    </tr>\n",
       "  </tbody>\n",
       "</table>\n",
       "<p>58721 rows × 12 columns</p>\n",
       "</div>"
      ],
      "text/plain": [
       "       OTHMF  PLCHM  AGRI  MNRLS  BMETL  WASTE  MISC  TRANS  FRPAP  FUELS  \\\n",
       "0        0.0    0.0   0.0    0.0    0.0    0.0   0.0    0.0    1.0    0.0   \n",
       "1        0.0    0.0   0.0    0.0    0.0    0.0   0.0    0.0    1.0    0.0   \n",
       "2        0.0    0.0   0.0    0.0    0.0    0.0   0.0    0.0    1.0    0.0   \n",
       "3        0.0    0.0   0.0    0.0    0.0    0.0   0.0    0.0    1.0    0.0   \n",
       "4        0.0    0.0   0.0    0.0    0.0    0.0   0.0    0.0    1.0    0.0   \n",
       "...      ...    ...   ...    ...    ...    ...   ...    ...    ...    ...   \n",
       "58716    0.0    0.0   0.0    0.0    0.0    0.0   0.0    0.0    0.0    1.0   \n",
       "58717    0.0    0.0   0.0    0.0    0.0    0.0   0.0    0.0    0.0    1.0   \n",
       "58718    0.0    0.0   0.0    0.0    0.0    0.0   0.0    0.0    0.0    1.0   \n",
       "58719    0.0    0.0   0.0    0.0    0.0    0.0   0.0    0.0    0.0    1.0   \n",
       "58720    0.0    0.0   0.0    0.0    0.0    0.0   0.0    0.0    0.0    1.0   \n",
       "\n",
       "       COAL  FOOD  \n",
       "0       0.0   0.0  \n",
       "1       0.0   0.0  \n",
       "2       0.0   0.0  \n",
       "3       0.0   0.0  \n",
       "4       0.0   0.0  \n",
       "...     ...   ...  \n",
       "58716   0.0   0.0  \n",
       "58717   0.0   0.0  \n",
       "58718   0.0   0.0  \n",
       "58719   0.0   0.0  \n",
       "58720   0.0   0.0  \n",
       "\n",
       "[58721 rows x 12 columns]"
      ]
     },
     "execution_count": 54,
     "metadata": {},
     "output_type": "execute_result"
    }
   ],
   "source": [
    "ohe = OneHotEncoder()\n",
    "array = ohe.fit_transform(cat_df[[\"SCTGGroup\"]]).toarray()\n",
    "df2 = pd.DataFrame(array,columns=cat_df[\"SCTGGroup\"].unique())\n",
    "df2"
   ]
  },
  {
   "cell_type": "code",
   "execution_count": 55,
   "id": "bcd0ef37",
   "metadata": {},
   "outputs": [],
   "source": [
    "cat_df = cat_df.join(df2)\n",
    "cat_df.drop(\"SCTGGroup\",axis=1,inplace=True)"
   ]
  },
  {
   "cell_type": "code",
   "execution_count": 56,
   "id": "7a625a18",
   "metadata": {},
   "outputs": [
    {
     "data": {
      "text/html": [
       "<div>\n",
       "<style scoped>\n",
       "    .dataframe tbody tr th:only-of-type {\n",
       "        vertical-align: middle;\n",
       "    }\n",
       "\n",
       "    .dataframe tbody tr th {\n",
       "        vertical-align: top;\n",
       "    }\n",
       "\n",
       "    .dataframe thead th {\n",
       "        text-align: right;\n",
       "    }\n",
       "</style>\n",
       "<table border=\"1\" class=\"dataframe\">\n",
       "  <thead>\n",
       "    <tr style=\"text-align: right;\">\n",
       "      <th></th>\n",
       "      <th>Mode</th>\n",
       "      <th>OrigProv</th>\n",
       "      <th>OrigCtry</th>\n",
       "      <th>DestProv</th>\n",
       "      <th>Shipments</th>\n",
       "      <th>Weight</th>\n",
       "      <th>Revenue</th>\n",
       "      <th>Distance</th>\n",
       "      <th>TonneKm</th>\n",
       "      <th>Value</th>\n",
       "      <th>...</th>\n",
       "      <th>AGRI</th>\n",
       "      <th>MNRLS</th>\n",
       "      <th>BMETL</th>\n",
       "      <th>WASTE</th>\n",
       "      <th>MISC</th>\n",
       "      <th>TRANS</th>\n",
       "      <th>FRPAP</th>\n",
       "      <th>FUELS</th>\n",
       "      <th>COAL</th>\n",
       "      <th>FOOD</th>\n",
       "    </tr>\n",
       "  </thead>\n",
       "  <tbody>\n",
       "    <tr>\n",
       "      <th>0</th>\n",
       "      <td>0.0</td>\n",
       "      <td>ON</td>\n",
       "      <td>0.0</td>\n",
       "      <td>AB</td>\n",
       "      <td>59</td>\n",
       "      <td>28,284.20</td>\n",
       "      <td>58,508.90</td>\n",
       "      <td>220,471.00</td>\n",
       "      <td>105,783.50</td>\n",
       "      <td>560,727.50</td>\n",
       "      <td>...</td>\n",
       "      <td>0.0</td>\n",
       "      <td>0.0</td>\n",
       "      <td>0.0</td>\n",
       "      <td>0.0</td>\n",
       "      <td>0.0</td>\n",
       "      <td>0.0</td>\n",
       "      <td>1.0</td>\n",
       "      <td>0.0</td>\n",
       "      <td>0.0</td>\n",
       "      <td>0.0</td>\n",
       "    </tr>\n",
       "    <tr>\n",
       "      <th>1</th>\n",
       "      <td>0.0</td>\n",
       "      <td>ON</td>\n",
       "      <td>0.0</td>\n",
       "      <td>AB</td>\n",
       "      <td>127</td>\n",
       "      <td>138,919.10</td>\n",
       "      <td>100,204.10</td>\n",
       "      <td>478,640.00</td>\n",
       "      <td>523,088.60</td>\n",
       "      <td>1,634,366.40</td>\n",
       "      <td>...</td>\n",
       "      <td>0.0</td>\n",
       "      <td>0.0</td>\n",
       "      <td>0.0</td>\n",
       "      <td>0.0</td>\n",
       "      <td>0.0</td>\n",
       "      <td>0.0</td>\n",
       "      <td>1.0</td>\n",
       "      <td>0.0</td>\n",
       "      <td>0.0</td>\n",
       "      <td>0.0</td>\n",
       "    </tr>\n",
       "    <tr>\n",
       "      <th>2</th>\n",
       "      <td>0.0</td>\n",
       "      <td>ON</td>\n",
       "      <td>0.0</td>\n",
       "      <td>BC</td>\n",
       "      <td>42</td>\n",
       "      <td>22,850.60</td>\n",
       "      <td>52,947.40</td>\n",
       "      <td>196,805.00</td>\n",
       "      <td>107,261.20</td>\n",
       "      <td>1,258,757.70</td>\n",
       "      <td>...</td>\n",
       "      <td>0.0</td>\n",
       "      <td>0.0</td>\n",
       "      <td>0.0</td>\n",
       "      <td>0.0</td>\n",
       "      <td>0.0</td>\n",
       "      <td>0.0</td>\n",
       "      <td>1.0</td>\n",
       "      <td>0.0</td>\n",
       "      <td>0.0</td>\n",
       "      <td>0.0</td>\n",
       "    </tr>\n",
       "    <tr>\n",
       "      <th>3</th>\n",
       "      <td>0.0</td>\n",
       "      <td>MB</td>\n",
       "      <td>0.0</td>\n",
       "      <td>QC</td>\n",
       "      <td>49</td>\n",
       "      <td>612,882.10</td>\n",
       "      <td>292,874.20</td>\n",
       "      <td>185,448.00</td>\n",
       "      <td>2,374,926.80</td>\n",
       "      <td>8,193,369.40</td>\n",
       "      <td>...</td>\n",
       "      <td>0.0</td>\n",
       "      <td>0.0</td>\n",
       "      <td>0.0</td>\n",
       "      <td>0.0</td>\n",
       "      <td>0.0</td>\n",
       "      <td>0.0</td>\n",
       "      <td>1.0</td>\n",
       "      <td>0.0</td>\n",
       "      <td>0.0</td>\n",
       "      <td>0.0</td>\n",
       "    </tr>\n",
       "    <tr>\n",
       "      <th>4</th>\n",
       "      <td>0.0</td>\n",
       "      <td>MB</td>\n",
       "      <td>0.0</td>\n",
       "      <td>ON</td>\n",
       "      <td>17</td>\n",
       "      <td>15,362.50</td>\n",
       "      <td>13,966.20</td>\n",
       "      <td>36,060.00</td>\n",
       "      <td>32,817.00</td>\n",
       "      <td>299,427.20</td>\n",
       "      <td>...</td>\n",
       "      <td>0.0</td>\n",
       "      <td>0.0</td>\n",
       "      <td>0.0</td>\n",
       "      <td>0.0</td>\n",
       "      <td>0.0</td>\n",
       "      <td>0.0</td>\n",
       "      <td>1.0</td>\n",
       "      <td>0.0</td>\n",
       "      <td>0.0</td>\n",
       "      <td>0.0</td>\n",
       "    </tr>\n",
       "  </tbody>\n",
       "</table>\n",
       "<p>5 rows × 22 columns</p>\n",
       "</div>"
      ],
      "text/plain": [
       "   Mode OrigProv  OrigCtry DestProv Shipments      Weight     Revenue  \\\n",
       "0   0.0       ON       0.0       AB        59   28,284.20   58,508.90   \n",
       "1   0.0       ON       0.0       AB       127  138,919.10  100,204.10   \n",
       "2   0.0       ON       0.0       BC        42   22,850.60   52,947.40   \n",
       "3   0.0       MB       0.0       QC        49  612,882.10  292,874.20   \n",
       "4   0.0       MB       0.0       ON        17   15,362.50   13,966.20   \n",
       "\n",
       "     Distance       TonneKm         Value  ...  AGRI  MNRLS  BMETL  WASTE  \\\n",
       "0  220,471.00    105,783.50    560,727.50  ...   0.0    0.0    0.0    0.0   \n",
       "1  478,640.00    523,088.60  1,634,366.40  ...   0.0    0.0    0.0    0.0   \n",
       "2  196,805.00    107,261.20  1,258,757.70  ...   0.0    0.0    0.0    0.0   \n",
       "3  185,448.00  2,374,926.80  8,193,369.40  ...   0.0    0.0    0.0    0.0   \n",
       "4   36,060.00     32,817.00    299,427.20  ...   0.0    0.0    0.0    0.0   \n",
       "\n",
       "   MISC  TRANS  FRPAP  FUELS  COAL  FOOD  \n",
       "0   0.0    0.0    1.0    0.0   0.0   0.0  \n",
       "1   0.0    0.0    1.0    0.0   0.0   0.0  \n",
       "2   0.0    0.0    1.0    0.0   0.0   0.0  \n",
       "3   0.0    0.0    1.0    0.0   0.0   0.0  \n",
       "4   0.0    0.0    1.0    0.0   0.0   0.0  \n",
       "\n",
       "[5 rows x 22 columns]"
      ]
     },
     "execution_count": 56,
     "metadata": {},
     "output_type": "execute_result"
    }
   ],
   "source": [
    "cat_df.head()"
   ]
  },
  {
   "cell_type": "code",
   "execution_count": 57,
   "id": "d80a84a5",
   "metadata": {},
   "outputs": [
    {
     "data": {
      "text/html": [
       "<div>\n",
       "<style scoped>\n",
       "    .dataframe tbody tr th:only-of-type {\n",
       "        vertical-align: middle;\n",
       "    }\n",
       "\n",
       "    .dataframe tbody tr th {\n",
       "        vertical-align: top;\n",
       "    }\n",
       "\n",
       "    .dataframe thead th {\n",
       "        text-align: right;\n",
       "    }\n",
       "</style>\n",
       "<table border=\"1\" class=\"dataframe\">\n",
       "  <thead>\n",
       "    <tr style=\"text-align: right;\">\n",
       "      <th></th>\n",
       "      <th>ON</th>\n",
       "      <th>MB</th>\n",
       "      <th>SK</th>\n",
       "      <th>UM</th>\n",
       "      <th>NS</th>\n",
       "      <th>QC</th>\n",
       "      <th>AB</th>\n",
       "      <th>BC</th>\n",
       "      <th>NB</th>\n",
       "      <th>NL</th>\n",
       "      <th>NT</th>\n",
       "      <th>NU</th>\n",
       "      <th>OI</th>\n",
       "      <th>PE</th>\n",
       "      <th>YT</th>\n",
       "    </tr>\n",
       "  </thead>\n",
       "  <tbody>\n",
       "    <tr>\n",
       "      <th>0</th>\n",
       "      <td>0.0</td>\n",
       "      <td>0.0</td>\n",
       "      <td>0.0</td>\n",
       "      <td>0.0</td>\n",
       "      <td>0.0</td>\n",
       "      <td>0.0</td>\n",
       "      <td>0.0</td>\n",
       "      <td>0.0</td>\n",
       "      <td>0.0</td>\n",
       "      <td>1.0</td>\n",
       "      <td>0.0</td>\n",
       "      <td>0.0</td>\n",
       "      <td>0.0</td>\n",
       "      <td>0.0</td>\n",
       "      <td>0.0</td>\n",
       "    </tr>\n",
       "    <tr>\n",
       "      <th>1</th>\n",
       "      <td>0.0</td>\n",
       "      <td>0.0</td>\n",
       "      <td>0.0</td>\n",
       "      <td>0.0</td>\n",
       "      <td>0.0</td>\n",
       "      <td>0.0</td>\n",
       "      <td>0.0</td>\n",
       "      <td>0.0</td>\n",
       "      <td>0.0</td>\n",
       "      <td>1.0</td>\n",
       "      <td>0.0</td>\n",
       "      <td>0.0</td>\n",
       "      <td>0.0</td>\n",
       "      <td>0.0</td>\n",
       "      <td>0.0</td>\n",
       "    </tr>\n",
       "    <tr>\n",
       "      <th>2</th>\n",
       "      <td>0.0</td>\n",
       "      <td>0.0</td>\n",
       "      <td>0.0</td>\n",
       "      <td>0.0</td>\n",
       "      <td>0.0</td>\n",
       "      <td>0.0</td>\n",
       "      <td>0.0</td>\n",
       "      <td>0.0</td>\n",
       "      <td>0.0</td>\n",
       "      <td>1.0</td>\n",
       "      <td>0.0</td>\n",
       "      <td>0.0</td>\n",
       "      <td>0.0</td>\n",
       "      <td>0.0</td>\n",
       "      <td>0.0</td>\n",
       "    </tr>\n",
       "    <tr>\n",
       "      <th>3</th>\n",
       "      <td>0.0</td>\n",
       "      <td>0.0</td>\n",
       "      <td>1.0</td>\n",
       "      <td>0.0</td>\n",
       "      <td>0.0</td>\n",
       "      <td>0.0</td>\n",
       "      <td>0.0</td>\n",
       "      <td>0.0</td>\n",
       "      <td>0.0</td>\n",
       "      <td>0.0</td>\n",
       "      <td>0.0</td>\n",
       "      <td>0.0</td>\n",
       "      <td>0.0</td>\n",
       "      <td>0.0</td>\n",
       "      <td>0.0</td>\n",
       "    </tr>\n",
       "    <tr>\n",
       "      <th>4</th>\n",
       "      <td>0.0</td>\n",
       "      <td>0.0</td>\n",
       "      <td>1.0</td>\n",
       "      <td>0.0</td>\n",
       "      <td>0.0</td>\n",
       "      <td>0.0</td>\n",
       "      <td>0.0</td>\n",
       "      <td>0.0</td>\n",
       "      <td>0.0</td>\n",
       "      <td>0.0</td>\n",
       "      <td>0.0</td>\n",
       "      <td>0.0</td>\n",
       "      <td>0.0</td>\n",
       "      <td>0.0</td>\n",
       "      <td>0.0</td>\n",
       "    </tr>\n",
       "    <tr>\n",
       "      <th>...</th>\n",
       "      <td>...</td>\n",
       "      <td>...</td>\n",
       "      <td>...</td>\n",
       "      <td>...</td>\n",
       "      <td>...</td>\n",
       "      <td>...</td>\n",
       "      <td>...</td>\n",
       "      <td>...</td>\n",
       "      <td>...</td>\n",
       "      <td>...</td>\n",
       "      <td>...</td>\n",
       "      <td>...</td>\n",
       "      <td>...</td>\n",
       "      <td>...</td>\n",
       "      <td>...</td>\n",
       "    </tr>\n",
       "    <tr>\n",
       "      <th>58716</th>\n",
       "      <td>0.0</td>\n",
       "      <td>0.0</td>\n",
       "      <td>0.0</td>\n",
       "      <td>0.0</td>\n",
       "      <td>0.0</td>\n",
       "      <td>0.0</td>\n",
       "      <td>0.0</td>\n",
       "      <td>0.0</td>\n",
       "      <td>0.0</td>\n",
       "      <td>1.0</td>\n",
       "      <td>0.0</td>\n",
       "      <td>0.0</td>\n",
       "      <td>0.0</td>\n",
       "      <td>0.0</td>\n",
       "      <td>0.0</td>\n",
       "    </tr>\n",
       "    <tr>\n",
       "      <th>58717</th>\n",
       "      <td>0.0</td>\n",
       "      <td>0.0</td>\n",
       "      <td>0.0</td>\n",
       "      <td>0.0</td>\n",
       "      <td>0.0</td>\n",
       "      <td>0.0</td>\n",
       "      <td>0.0</td>\n",
       "      <td>0.0</td>\n",
       "      <td>0.0</td>\n",
       "      <td>1.0</td>\n",
       "      <td>0.0</td>\n",
       "      <td>0.0</td>\n",
       "      <td>0.0</td>\n",
       "      <td>0.0</td>\n",
       "      <td>0.0</td>\n",
       "    </tr>\n",
       "    <tr>\n",
       "      <th>58718</th>\n",
       "      <td>0.0</td>\n",
       "      <td>0.0</td>\n",
       "      <td>0.0</td>\n",
       "      <td>0.0</td>\n",
       "      <td>0.0</td>\n",
       "      <td>0.0</td>\n",
       "      <td>0.0</td>\n",
       "      <td>0.0</td>\n",
       "      <td>0.0</td>\n",
       "      <td>1.0</td>\n",
       "      <td>0.0</td>\n",
       "      <td>0.0</td>\n",
       "      <td>0.0</td>\n",
       "      <td>0.0</td>\n",
       "      <td>0.0</td>\n",
       "    </tr>\n",
       "    <tr>\n",
       "      <th>58719</th>\n",
       "      <td>0.0</td>\n",
       "      <td>0.0</td>\n",
       "      <td>0.0</td>\n",
       "      <td>0.0</td>\n",
       "      <td>0.0</td>\n",
       "      <td>0.0</td>\n",
       "      <td>0.0</td>\n",
       "      <td>0.0</td>\n",
       "      <td>0.0</td>\n",
       "      <td>1.0</td>\n",
       "      <td>0.0</td>\n",
       "      <td>0.0</td>\n",
       "      <td>0.0</td>\n",
       "      <td>0.0</td>\n",
       "      <td>0.0</td>\n",
       "    </tr>\n",
       "    <tr>\n",
       "      <th>58720</th>\n",
       "      <td>0.0</td>\n",
       "      <td>0.0</td>\n",
       "      <td>0.0</td>\n",
       "      <td>0.0</td>\n",
       "      <td>0.0</td>\n",
       "      <td>0.0</td>\n",
       "      <td>0.0</td>\n",
       "      <td>0.0</td>\n",
       "      <td>0.0</td>\n",
       "      <td>1.0</td>\n",
       "      <td>0.0</td>\n",
       "      <td>0.0</td>\n",
       "      <td>0.0</td>\n",
       "      <td>0.0</td>\n",
       "      <td>0.0</td>\n",
       "    </tr>\n",
       "  </tbody>\n",
       "</table>\n",
       "<p>58721 rows × 15 columns</p>\n",
       "</div>"
      ],
      "text/plain": [
       "        ON   MB   SK   UM   NS   QC   AB   BC   NB   NL   NT   NU   OI   PE  \\\n",
       "0      0.0  0.0  0.0  0.0  0.0  0.0  0.0  0.0  0.0  1.0  0.0  0.0  0.0  0.0   \n",
       "1      0.0  0.0  0.0  0.0  0.0  0.0  0.0  0.0  0.0  1.0  0.0  0.0  0.0  0.0   \n",
       "2      0.0  0.0  0.0  0.0  0.0  0.0  0.0  0.0  0.0  1.0  0.0  0.0  0.0  0.0   \n",
       "3      0.0  0.0  1.0  0.0  0.0  0.0  0.0  0.0  0.0  0.0  0.0  0.0  0.0  0.0   \n",
       "4      0.0  0.0  1.0  0.0  0.0  0.0  0.0  0.0  0.0  0.0  0.0  0.0  0.0  0.0   \n",
       "...    ...  ...  ...  ...  ...  ...  ...  ...  ...  ...  ...  ...  ...  ...   \n",
       "58716  0.0  0.0  0.0  0.0  0.0  0.0  0.0  0.0  0.0  1.0  0.0  0.0  0.0  0.0   \n",
       "58717  0.0  0.0  0.0  0.0  0.0  0.0  0.0  0.0  0.0  1.0  0.0  0.0  0.0  0.0   \n",
       "58718  0.0  0.0  0.0  0.0  0.0  0.0  0.0  0.0  0.0  1.0  0.0  0.0  0.0  0.0   \n",
       "58719  0.0  0.0  0.0  0.0  0.0  0.0  0.0  0.0  0.0  1.0  0.0  0.0  0.0  0.0   \n",
       "58720  0.0  0.0  0.0  0.0  0.0  0.0  0.0  0.0  0.0  1.0  0.0  0.0  0.0  0.0   \n",
       "\n",
       "        YT  \n",
       "0      0.0  \n",
       "1      0.0  \n",
       "2      0.0  \n",
       "3      0.0  \n",
       "4      0.0  \n",
       "...    ...  \n",
       "58716  0.0  \n",
       "58717  0.0  \n",
       "58718  0.0  \n",
       "58719  0.0  \n",
       "58720  0.0  \n",
       "\n",
       "[58721 rows x 15 columns]"
      ]
     },
     "execution_count": 57,
     "metadata": {},
     "output_type": "execute_result"
    }
   ],
   "source": [
    "ohe = OneHotEncoder()\n",
    "array = ohe.fit_transform(cat_df[[\"OrigProv\"]]).toarray()\n",
    "df1 = pd.DataFrame(array,columns=cat_df[\"OrigProv\"].unique())\n",
    "df1"
   ]
  },
  {
   "cell_type": "code",
   "execution_count": 58,
   "id": "e8d0b964",
   "metadata": {},
   "outputs": [
    {
     "data": {
      "text/html": [
       "<div>\n",
       "<style scoped>\n",
       "    .dataframe tbody tr th:only-of-type {\n",
       "        vertical-align: middle;\n",
       "    }\n",
       "\n",
       "    .dataframe tbody tr th {\n",
       "        vertical-align: top;\n",
       "    }\n",
       "\n",
       "    .dataframe thead th {\n",
       "        text-align: right;\n",
       "    }\n",
       "</style>\n",
       "<table border=\"1\" class=\"dataframe\">\n",
       "  <thead>\n",
       "    <tr style=\"text-align: right;\">\n",
       "      <th></th>\n",
       "      <th>Mode</th>\n",
       "      <th>OrigCtry</th>\n",
       "      <th>DestProv</th>\n",
       "      <th>Shipments</th>\n",
       "      <th>Weight</th>\n",
       "      <th>Revenue</th>\n",
       "      <th>Distance</th>\n",
       "      <th>TonneKm</th>\n",
       "      <th>Value</th>\n",
       "      <th>OTHMF</th>\n",
       "      <th>...</th>\n",
       "      <th>QC</th>\n",
       "      <th>AB</th>\n",
       "      <th>BC</th>\n",
       "      <th>NB</th>\n",
       "      <th>NL</th>\n",
       "      <th>NT</th>\n",
       "      <th>NU</th>\n",
       "      <th>OI</th>\n",
       "      <th>PE</th>\n",
       "      <th>YT</th>\n",
       "    </tr>\n",
       "  </thead>\n",
       "  <tbody>\n",
       "    <tr>\n",
       "      <th>0</th>\n",
       "      <td>0.0</td>\n",
       "      <td>0.0</td>\n",
       "      <td>AB</td>\n",
       "      <td>59</td>\n",
       "      <td>28,284.20</td>\n",
       "      <td>58,508.90</td>\n",
       "      <td>220,471.00</td>\n",
       "      <td>105,783.50</td>\n",
       "      <td>560,727.50</td>\n",
       "      <td>0.0</td>\n",
       "      <td>...</td>\n",
       "      <td>0.0</td>\n",
       "      <td>0.0</td>\n",
       "      <td>0.0</td>\n",
       "      <td>0.0</td>\n",
       "      <td>1.0</td>\n",
       "      <td>0.0</td>\n",
       "      <td>0.0</td>\n",
       "      <td>0.0</td>\n",
       "      <td>0.0</td>\n",
       "      <td>0.0</td>\n",
       "    </tr>\n",
       "    <tr>\n",
       "      <th>1</th>\n",
       "      <td>0.0</td>\n",
       "      <td>0.0</td>\n",
       "      <td>AB</td>\n",
       "      <td>127</td>\n",
       "      <td>138,919.10</td>\n",
       "      <td>100,204.10</td>\n",
       "      <td>478,640.00</td>\n",
       "      <td>523,088.60</td>\n",
       "      <td>1,634,366.40</td>\n",
       "      <td>0.0</td>\n",
       "      <td>...</td>\n",
       "      <td>0.0</td>\n",
       "      <td>0.0</td>\n",
       "      <td>0.0</td>\n",
       "      <td>0.0</td>\n",
       "      <td>1.0</td>\n",
       "      <td>0.0</td>\n",
       "      <td>0.0</td>\n",
       "      <td>0.0</td>\n",
       "      <td>0.0</td>\n",
       "      <td>0.0</td>\n",
       "    </tr>\n",
       "    <tr>\n",
       "      <th>2</th>\n",
       "      <td>0.0</td>\n",
       "      <td>0.0</td>\n",
       "      <td>BC</td>\n",
       "      <td>42</td>\n",
       "      <td>22,850.60</td>\n",
       "      <td>52,947.40</td>\n",
       "      <td>196,805.00</td>\n",
       "      <td>107,261.20</td>\n",
       "      <td>1,258,757.70</td>\n",
       "      <td>0.0</td>\n",
       "      <td>...</td>\n",
       "      <td>0.0</td>\n",
       "      <td>0.0</td>\n",
       "      <td>0.0</td>\n",
       "      <td>0.0</td>\n",
       "      <td>1.0</td>\n",
       "      <td>0.0</td>\n",
       "      <td>0.0</td>\n",
       "      <td>0.0</td>\n",
       "      <td>0.0</td>\n",
       "      <td>0.0</td>\n",
       "    </tr>\n",
       "    <tr>\n",
       "      <th>3</th>\n",
       "      <td>0.0</td>\n",
       "      <td>0.0</td>\n",
       "      <td>QC</td>\n",
       "      <td>49</td>\n",
       "      <td>612,882.10</td>\n",
       "      <td>292,874.20</td>\n",
       "      <td>185,448.00</td>\n",
       "      <td>2,374,926.80</td>\n",
       "      <td>8,193,369.40</td>\n",
       "      <td>0.0</td>\n",
       "      <td>...</td>\n",
       "      <td>0.0</td>\n",
       "      <td>0.0</td>\n",
       "      <td>0.0</td>\n",
       "      <td>0.0</td>\n",
       "      <td>0.0</td>\n",
       "      <td>0.0</td>\n",
       "      <td>0.0</td>\n",
       "      <td>0.0</td>\n",
       "      <td>0.0</td>\n",
       "      <td>0.0</td>\n",
       "    </tr>\n",
       "    <tr>\n",
       "      <th>4</th>\n",
       "      <td>0.0</td>\n",
       "      <td>0.0</td>\n",
       "      <td>ON</td>\n",
       "      <td>17</td>\n",
       "      <td>15,362.50</td>\n",
       "      <td>13,966.20</td>\n",
       "      <td>36,060.00</td>\n",
       "      <td>32,817.00</td>\n",
       "      <td>299,427.20</td>\n",
       "      <td>0.0</td>\n",
       "      <td>...</td>\n",
       "      <td>0.0</td>\n",
       "      <td>0.0</td>\n",
       "      <td>0.0</td>\n",
       "      <td>0.0</td>\n",
       "      <td>0.0</td>\n",
       "      <td>0.0</td>\n",
       "      <td>0.0</td>\n",
       "      <td>0.0</td>\n",
       "      <td>0.0</td>\n",
       "      <td>0.0</td>\n",
       "    </tr>\n",
       "  </tbody>\n",
       "</table>\n",
       "<p>5 rows × 36 columns</p>\n",
       "</div>"
      ],
      "text/plain": [
       "   Mode  OrigCtry DestProv Shipments      Weight     Revenue    Distance  \\\n",
       "0   0.0       0.0       AB        59   28,284.20   58,508.90  220,471.00   \n",
       "1   0.0       0.0       AB       127  138,919.10  100,204.10  478,640.00   \n",
       "2   0.0       0.0       BC        42   22,850.60   52,947.40  196,805.00   \n",
       "3   0.0       0.0       QC        49  612,882.10  292,874.20  185,448.00   \n",
       "4   0.0       0.0       ON        17   15,362.50   13,966.20   36,060.00   \n",
       "\n",
       "        TonneKm         Value  OTHMF  ...   QC   AB   BC   NB   NL   NT   NU  \\\n",
       "0    105,783.50    560,727.50    0.0  ...  0.0  0.0  0.0  0.0  1.0  0.0  0.0   \n",
       "1    523,088.60  1,634,366.40    0.0  ...  0.0  0.0  0.0  0.0  1.0  0.0  0.0   \n",
       "2    107,261.20  1,258,757.70    0.0  ...  0.0  0.0  0.0  0.0  1.0  0.0  0.0   \n",
       "3  2,374,926.80  8,193,369.40    0.0  ...  0.0  0.0  0.0  0.0  0.0  0.0  0.0   \n",
       "4     32,817.00    299,427.20    0.0  ...  0.0  0.0  0.0  0.0  0.0  0.0  0.0   \n",
       "\n",
       "    OI   PE   YT  \n",
       "0  0.0  0.0  0.0  \n",
       "1  0.0  0.0  0.0  \n",
       "2  0.0  0.0  0.0  \n",
       "3  0.0  0.0  0.0  \n",
       "4  0.0  0.0  0.0  \n",
       "\n",
       "[5 rows x 36 columns]"
      ]
     },
     "execution_count": 58,
     "metadata": {},
     "output_type": "execute_result"
    }
   ],
   "source": [
    "cat_df = cat_df.join(df1)\n",
    "cat_df.drop(\"OrigProv\",axis=1,inplace=True)\n",
    "cat_df.head()"
   ]
  },
  {
   "cell_type": "code",
   "execution_count": 59,
   "id": "1ce1f3ea",
   "metadata": {},
   "outputs": [],
   "source": [
    "cat_df.drop(\"DestProv\",axis=1,inplace=True)"
   ]
  },
  {
   "cell_type": "code",
   "execution_count": 60,
   "id": "d822d897",
   "metadata": {},
   "outputs": [
    {
     "data": {
      "text/html": [
       "<div>\n",
       "<style scoped>\n",
       "    .dataframe tbody tr th:only-of-type {\n",
       "        vertical-align: middle;\n",
       "    }\n",
       "\n",
       "    .dataframe tbody tr th {\n",
       "        vertical-align: top;\n",
       "    }\n",
       "\n",
       "    .dataframe thead th {\n",
       "        text-align: right;\n",
       "    }\n",
       "</style>\n",
       "<table border=\"1\" class=\"dataframe\">\n",
       "  <thead>\n",
       "    <tr style=\"text-align: right;\">\n",
       "      <th></th>\n",
       "      <th>Mode</th>\n",
       "      <th>OrigCtry</th>\n",
       "      <th>Shipments</th>\n",
       "      <th>Weight</th>\n",
       "      <th>Revenue</th>\n",
       "      <th>Distance</th>\n",
       "      <th>TonneKm</th>\n",
       "      <th>Value</th>\n",
       "      <th>OTHMF</th>\n",
       "      <th>PLCHM</th>\n",
       "      <th>...</th>\n",
       "      <th>QC</th>\n",
       "      <th>AB</th>\n",
       "      <th>BC</th>\n",
       "      <th>NB</th>\n",
       "      <th>NL</th>\n",
       "      <th>NT</th>\n",
       "      <th>NU</th>\n",
       "      <th>OI</th>\n",
       "      <th>PE</th>\n",
       "      <th>YT</th>\n",
       "    </tr>\n",
       "  </thead>\n",
       "  <tbody>\n",
       "    <tr>\n",
       "      <th>0</th>\n",
       "      <td>0.0</td>\n",
       "      <td>0.0</td>\n",
       "      <td>59</td>\n",
       "      <td>28,284.20</td>\n",
       "      <td>58,508.90</td>\n",
       "      <td>220,471.00</td>\n",
       "      <td>105,783.50</td>\n",
       "      <td>560,727.50</td>\n",
       "      <td>0.0</td>\n",
       "      <td>0.0</td>\n",
       "      <td>...</td>\n",
       "      <td>0.0</td>\n",
       "      <td>0.0</td>\n",
       "      <td>0.0</td>\n",
       "      <td>0.0</td>\n",
       "      <td>1.0</td>\n",
       "      <td>0.0</td>\n",
       "      <td>0.0</td>\n",
       "      <td>0.0</td>\n",
       "      <td>0.0</td>\n",
       "      <td>0.0</td>\n",
       "    </tr>\n",
       "    <tr>\n",
       "      <th>1</th>\n",
       "      <td>0.0</td>\n",
       "      <td>0.0</td>\n",
       "      <td>127</td>\n",
       "      <td>138,919.10</td>\n",
       "      <td>100,204.10</td>\n",
       "      <td>478,640.00</td>\n",
       "      <td>523,088.60</td>\n",
       "      <td>1,634,366.40</td>\n",
       "      <td>0.0</td>\n",
       "      <td>0.0</td>\n",
       "      <td>...</td>\n",
       "      <td>0.0</td>\n",
       "      <td>0.0</td>\n",
       "      <td>0.0</td>\n",
       "      <td>0.0</td>\n",
       "      <td>1.0</td>\n",
       "      <td>0.0</td>\n",
       "      <td>0.0</td>\n",
       "      <td>0.0</td>\n",
       "      <td>0.0</td>\n",
       "      <td>0.0</td>\n",
       "    </tr>\n",
       "    <tr>\n",
       "      <th>2</th>\n",
       "      <td>0.0</td>\n",
       "      <td>0.0</td>\n",
       "      <td>42</td>\n",
       "      <td>22,850.60</td>\n",
       "      <td>52,947.40</td>\n",
       "      <td>196,805.00</td>\n",
       "      <td>107,261.20</td>\n",
       "      <td>1,258,757.70</td>\n",
       "      <td>0.0</td>\n",
       "      <td>0.0</td>\n",
       "      <td>...</td>\n",
       "      <td>0.0</td>\n",
       "      <td>0.0</td>\n",
       "      <td>0.0</td>\n",
       "      <td>0.0</td>\n",
       "      <td>1.0</td>\n",
       "      <td>0.0</td>\n",
       "      <td>0.0</td>\n",
       "      <td>0.0</td>\n",
       "      <td>0.0</td>\n",
       "      <td>0.0</td>\n",
       "    </tr>\n",
       "    <tr>\n",
       "      <th>3</th>\n",
       "      <td>0.0</td>\n",
       "      <td>0.0</td>\n",
       "      <td>49</td>\n",
       "      <td>612,882.10</td>\n",
       "      <td>292,874.20</td>\n",
       "      <td>185,448.00</td>\n",
       "      <td>2,374,926.80</td>\n",
       "      <td>8,193,369.40</td>\n",
       "      <td>0.0</td>\n",
       "      <td>0.0</td>\n",
       "      <td>...</td>\n",
       "      <td>0.0</td>\n",
       "      <td>0.0</td>\n",
       "      <td>0.0</td>\n",
       "      <td>0.0</td>\n",
       "      <td>0.0</td>\n",
       "      <td>0.0</td>\n",
       "      <td>0.0</td>\n",
       "      <td>0.0</td>\n",
       "      <td>0.0</td>\n",
       "      <td>0.0</td>\n",
       "    </tr>\n",
       "    <tr>\n",
       "      <th>4</th>\n",
       "      <td>0.0</td>\n",
       "      <td>0.0</td>\n",
       "      <td>17</td>\n",
       "      <td>15,362.50</td>\n",
       "      <td>13,966.20</td>\n",
       "      <td>36,060.00</td>\n",
       "      <td>32,817.00</td>\n",
       "      <td>299,427.20</td>\n",
       "      <td>0.0</td>\n",
       "      <td>0.0</td>\n",
       "      <td>...</td>\n",
       "      <td>0.0</td>\n",
       "      <td>0.0</td>\n",
       "      <td>0.0</td>\n",
       "      <td>0.0</td>\n",
       "      <td>0.0</td>\n",
       "      <td>0.0</td>\n",
       "      <td>0.0</td>\n",
       "      <td>0.0</td>\n",
       "      <td>0.0</td>\n",
       "      <td>0.0</td>\n",
       "    </tr>\n",
       "  </tbody>\n",
       "</table>\n",
       "<p>5 rows × 35 columns</p>\n",
       "</div>"
      ],
      "text/plain": [
       "   Mode  OrigCtry Shipments      Weight     Revenue    Distance       TonneKm  \\\n",
       "0   0.0       0.0        59   28,284.20   58,508.90  220,471.00    105,783.50   \n",
       "1   0.0       0.0       127  138,919.10  100,204.10  478,640.00    523,088.60   \n",
       "2   0.0       0.0        42   22,850.60   52,947.40  196,805.00    107,261.20   \n",
       "3   0.0       0.0        49  612,882.10  292,874.20  185,448.00  2,374,926.80   \n",
       "4   0.0       0.0        17   15,362.50   13,966.20   36,060.00     32,817.00   \n",
       "\n",
       "          Value  OTHMF  PLCHM  ...   QC   AB   BC   NB   NL   NT   NU   OI  \\\n",
       "0    560,727.50    0.0    0.0  ...  0.0  0.0  0.0  0.0  1.0  0.0  0.0  0.0   \n",
       "1  1,634,366.40    0.0    0.0  ...  0.0  0.0  0.0  0.0  1.0  0.0  0.0  0.0   \n",
       "2  1,258,757.70    0.0    0.0  ...  0.0  0.0  0.0  0.0  1.0  0.0  0.0  0.0   \n",
       "3  8,193,369.40    0.0    0.0  ...  0.0  0.0  0.0  0.0  0.0  0.0  0.0  0.0   \n",
       "4    299,427.20    0.0    0.0  ...  0.0  0.0  0.0  0.0  0.0  0.0  0.0  0.0   \n",
       "\n",
       "    PE   YT  \n",
       "0  0.0  0.0  \n",
       "1  0.0  0.0  \n",
       "2  0.0  0.0  \n",
       "3  0.0  0.0  \n",
       "4  0.0  0.0  \n",
       "\n",
       "[5 rows x 35 columns]"
      ]
     },
     "execution_count": 60,
     "metadata": {},
     "output_type": "execute_result"
    }
   ],
   "source": [
    "cat_df.head()"
   ]
  },
  {
   "cell_type": "code",
   "execution_count": 61,
   "id": "323f7fdb",
   "metadata": {},
   "outputs": [
    {
     "name": "stdout",
     "output_type": "stream",
     "text": [
      "<class 'pandas.core.frame.DataFrame'>\n",
      "RangeIndex: 58721 entries, 0 to 58720\n",
      "Data columns (total 35 columns):\n",
      " #   Column     Non-Null Count  Dtype  \n",
      "---  ------     --------------  -----  \n",
      " 0   Mode       58721 non-null  float64\n",
      " 1   OrigCtry   58721 non-null  float64\n",
      " 2   Shipments  57161 non-null  object \n",
      " 3   Weight     57161 non-null  object \n",
      " 4   Revenue    57161 non-null  object \n",
      " 5   Distance   57161 non-null  object \n",
      " 6   TonneKm    57161 non-null  object \n",
      " 7   Value      57161 non-null  object \n",
      " 8   OTHMF      58721 non-null  float64\n",
      " 9   PLCHM      58721 non-null  float64\n",
      " 10  AGRI       58721 non-null  float64\n",
      " 11  MNRLS      58721 non-null  float64\n",
      " 12  BMETL      58721 non-null  float64\n",
      " 13  WASTE      58721 non-null  float64\n",
      " 14  MISC       58721 non-null  float64\n",
      " 15  TRANS      58721 non-null  float64\n",
      " 16  FRPAP      58721 non-null  float64\n",
      " 17  FUELS      58721 non-null  float64\n",
      " 18  COAL       58721 non-null  float64\n",
      " 19  FOOD       58721 non-null  float64\n",
      " 20  ON         58721 non-null  float64\n",
      " 21  MB         58721 non-null  float64\n",
      " 22  SK         58721 non-null  float64\n",
      " 23  UM         58721 non-null  float64\n",
      " 24  NS         58721 non-null  float64\n",
      " 25  QC         58721 non-null  float64\n",
      " 26  AB         58721 non-null  float64\n",
      " 27  BC         58721 non-null  float64\n",
      " 28  NB         58721 non-null  float64\n",
      " 29  NL         58721 non-null  float64\n",
      " 30  NT         58721 non-null  float64\n",
      " 31  NU         58721 non-null  float64\n",
      " 32  OI         58721 non-null  float64\n",
      " 33  PE         58721 non-null  float64\n",
      " 34  YT         58721 non-null  float64\n",
      "dtypes: float64(29), object(6)\n",
      "memory usage: 15.7+ MB\n"
     ]
    }
   ],
   "source": [
    "cat_df.info()"
   ]
  },
  {
   "cell_type": "markdown",
   "id": "c4f16309",
   "metadata": {},
   "source": [
    "## handle missing values and datatypes"
   ]
  },
  {
   "cell_type": "code",
   "execution_count": 62,
   "id": "f71b2c80",
   "metadata": {},
   "outputs": [
    {
     "data": {
      "text/html": [
       "<div>\n",
       "<style scoped>\n",
       "    .dataframe tbody tr th:only-of-type {\n",
       "        vertical-align: middle;\n",
       "    }\n",
       "\n",
       "    .dataframe tbody tr th {\n",
       "        vertical-align: top;\n",
       "    }\n",
       "\n",
       "    .dataframe thead th {\n",
       "        text-align: right;\n",
       "    }\n",
       "</style>\n",
       "<table border=\"1\" class=\"dataframe\">\n",
       "  <thead>\n",
       "    <tr style=\"text-align: right;\">\n",
       "      <th></th>\n",
       "      <th>Mode</th>\n",
       "      <th>OrigCtry</th>\n",
       "      <th>Shipments</th>\n",
       "      <th>Weight</th>\n",
       "      <th>Revenue</th>\n",
       "      <th>Distance</th>\n",
       "      <th>TonneKm</th>\n",
       "      <th>Value</th>\n",
       "      <th>OTHMF</th>\n",
       "      <th>PLCHM</th>\n",
       "      <th>...</th>\n",
       "      <th>QC</th>\n",
       "      <th>AB</th>\n",
       "      <th>BC</th>\n",
       "      <th>NB</th>\n",
       "      <th>NL</th>\n",
       "      <th>NT</th>\n",
       "      <th>NU</th>\n",
       "      <th>OI</th>\n",
       "      <th>PE</th>\n",
       "      <th>YT</th>\n",
       "    </tr>\n",
       "  </thead>\n",
       "  <tbody>\n",
       "    <tr>\n",
       "      <th>0</th>\n",
       "      <td>0.0</td>\n",
       "      <td>0.0</td>\n",
       "      <td>59</td>\n",
       "      <td>28,284.20</td>\n",
       "      <td>58,508.90</td>\n",
       "      <td>220,471.00</td>\n",
       "      <td>105,783.50</td>\n",
       "      <td>560,727.50</td>\n",
       "      <td>0.0</td>\n",
       "      <td>0.0</td>\n",
       "      <td>...</td>\n",
       "      <td>0.0</td>\n",
       "      <td>0.0</td>\n",
       "      <td>0.0</td>\n",
       "      <td>0.0</td>\n",
       "      <td>1.0</td>\n",
       "      <td>0.0</td>\n",
       "      <td>0.0</td>\n",
       "      <td>0.0</td>\n",
       "      <td>0.0</td>\n",
       "      <td>0.0</td>\n",
       "    </tr>\n",
       "    <tr>\n",
       "      <th>1</th>\n",
       "      <td>0.0</td>\n",
       "      <td>0.0</td>\n",
       "      <td>127</td>\n",
       "      <td>138,919.10</td>\n",
       "      <td>100,204.10</td>\n",
       "      <td>478,640.00</td>\n",
       "      <td>523,088.60</td>\n",
       "      <td>1,634,366.40</td>\n",
       "      <td>0.0</td>\n",
       "      <td>0.0</td>\n",
       "      <td>...</td>\n",
       "      <td>0.0</td>\n",
       "      <td>0.0</td>\n",
       "      <td>0.0</td>\n",
       "      <td>0.0</td>\n",
       "      <td>1.0</td>\n",
       "      <td>0.0</td>\n",
       "      <td>0.0</td>\n",
       "      <td>0.0</td>\n",
       "      <td>0.0</td>\n",
       "      <td>0.0</td>\n",
       "    </tr>\n",
       "    <tr>\n",
       "      <th>2</th>\n",
       "      <td>0.0</td>\n",
       "      <td>0.0</td>\n",
       "      <td>42</td>\n",
       "      <td>22,850.60</td>\n",
       "      <td>52,947.40</td>\n",
       "      <td>196,805.00</td>\n",
       "      <td>107,261.20</td>\n",
       "      <td>1,258,757.70</td>\n",
       "      <td>0.0</td>\n",
       "      <td>0.0</td>\n",
       "      <td>...</td>\n",
       "      <td>0.0</td>\n",
       "      <td>0.0</td>\n",
       "      <td>0.0</td>\n",
       "      <td>0.0</td>\n",
       "      <td>1.0</td>\n",
       "      <td>0.0</td>\n",
       "      <td>0.0</td>\n",
       "      <td>0.0</td>\n",
       "      <td>0.0</td>\n",
       "      <td>0.0</td>\n",
       "    </tr>\n",
       "    <tr>\n",
       "      <th>3</th>\n",
       "      <td>0.0</td>\n",
       "      <td>0.0</td>\n",
       "      <td>49</td>\n",
       "      <td>612,882.10</td>\n",
       "      <td>292,874.20</td>\n",
       "      <td>185,448.00</td>\n",
       "      <td>2,374,926.80</td>\n",
       "      <td>8,193,369.40</td>\n",
       "      <td>0.0</td>\n",
       "      <td>0.0</td>\n",
       "      <td>...</td>\n",
       "      <td>0.0</td>\n",
       "      <td>0.0</td>\n",
       "      <td>0.0</td>\n",
       "      <td>0.0</td>\n",
       "      <td>0.0</td>\n",
       "      <td>0.0</td>\n",
       "      <td>0.0</td>\n",
       "      <td>0.0</td>\n",
       "      <td>0.0</td>\n",
       "      <td>0.0</td>\n",
       "    </tr>\n",
       "    <tr>\n",
       "      <th>4</th>\n",
       "      <td>0.0</td>\n",
       "      <td>0.0</td>\n",
       "      <td>17</td>\n",
       "      <td>15,362.50</td>\n",
       "      <td>13,966.20</td>\n",
       "      <td>36,060.00</td>\n",
       "      <td>32,817.00</td>\n",
       "      <td>299,427.20</td>\n",
       "      <td>0.0</td>\n",
       "      <td>0.0</td>\n",
       "      <td>...</td>\n",
       "      <td>0.0</td>\n",
       "      <td>0.0</td>\n",
       "      <td>0.0</td>\n",
       "      <td>0.0</td>\n",
       "      <td>0.0</td>\n",
       "      <td>0.0</td>\n",
       "      <td>0.0</td>\n",
       "      <td>0.0</td>\n",
       "      <td>0.0</td>\n",
       "      <td>0.0</td>\n",
       "    </tr>\n",
       "  </tbody>\n",
       "</table>\n",
       "<p>5 rows × 35 columns</p>\n",
       "</div>"
      ],
      "text/plain": [
       "   Mode  OrigCtry Shipments      Weight     Revenue    Distance       TonneKm  \\\n",
       "0   0.0       0.0        59   28,284.20   58,508.90  220,471.00    105,783.50   \n",
       "1   0.0       0.0       127  138,919.10  100,204.10  478,640.00    523,088.60   \n",
       "2   0.0       0.0        42   22,850.60   52,947.40  196,805.00    107,261.20   \n",
       "3   0.0       0.0        49  612,882.10  292,874.20  185,448.00  2,374,926.80   \n",
       "4   0.0       0.0        17   15,362.50   13,966.20   36,060.00     32,817.00   \n",
       "\n",
       "          Value  OTHMF  PLCHM  ...   QC   AB   BC   NB   NL   NT   NU   OI  \\\n",
       "0    560,727.50    0.0    0.0  ...  0.0  0.0  0.0  0.0  1.0  0.0  0.0  0.0   \n",
       "1  1,634,366.40    0.0    0.0  ...  0.0  0.0  0.0  0.0  1.0  0.0  0.0  0.0   \n",
       "2  1,258,757.70    0.0    0.0  ...  0.0  0.0  0.0  0.0  1.0  0.0  0.0  0.0   \n",
       "3  8,193,369.40    0.0    0.0  ...  0.0  0.0  0.0  0.0  0.0  0.0  0.0  0.0   \n",
       "4    299,427.20    0.0    0.0  ...  0.0  0.0  0.0  0.0  0.0  0.0  0.0  0.0   \n",
       "\n",
       "    PE   YT  \n",
       "0  0.0  0.0  \n",
       "1  0.0  0.0  \n",
       "2  0.0  0.0  \n",
       "3  0.0  0.0  \n",
       "4  0.0  0.0  \n",
       "\n",
       "[5 rows x 35 columns]"
      ]
     },
     "execution_count": 62,
     "metadata": {},
     "output_type": "execute_result"
    }
   ],
   "source": [
    "cat_df.head()"
   ]
  },
  {
   "cell_type": "code",
   "execution_count": 63,
   "id": "46098d03",
   "metadata": {},
   "outputs": [],
   "source": [
    "cat_df[\"Shipments\"] = cat_df[\"Shipments\"].str.replace(\",\",\"\")\n",
    "cat_df[\"Weight\"] = cat_df[\"Weight\"].str.replace(\",\",\"\")\n",
    "cat_df[\"Revenue\"] = cat_df[\"Revenue\"].str.replace(\",\",\"\")\n",
    "cat_df[\"Distance\"] = cat_df[\"Distance\"].str.replace(\",\",\"\")\n",
    "cat_df[\"TonneKm\"] = cat_df[\"TonneKm\"].str.replace(\",\",\"\")\n",
    "cat_df[\"Value\"] = cat_df[\"Value\"].str.replace(\",\",\"\")"
   ]
  },
  {
   "cell_type": "code",
   "execution_count": 64,
   "id": "8c9addcf",
   "metadata": {},
   "outputs": [],
   "source": [
    "cat_df[\"Shipments\"] = cat_df[\"Shipments\"].astype(float)\n",
    "cat_df[\"Weight\"] = cat_df[\"Weight\"].astype(float)\n",
    "cat_df[\"Revenue\"] = cat_df[\"Revenue\"].astype(float)\n",
    "cat_df[\"Distance\"] = cat_df[\"Distance\"].astype(float)\n",
    "cat_df[\"TonneKm\"] = cat_df[\"TonneKm\"].astype(float)\n",
    "cat_df[\"Value\"] = cat_df[\"Value\"].astype(float)"
   ]
  },
  {
   "cell_type": "code",
   "execution_count": 65,
   "id": "7060b856",
   "metadata": {},
   "outputs": [
    {
     "data": {
      "text/html": [
       "<div>\n",
       "<style scoped>\n",
       "    .dataframe tbody tr th:only-of-type {\n",
       "        vertical-align: middle;\n",
       "    }\n",
       "\n",
       "    .dataframe tbody tr th {\n",
       "        vertical-align: top;\n",
       "    }\n",
       "\n",
       "    .dataframe thead th {\n",
       "        text-align: right;\n",
       "    }\n",
       "</style>\n",
       "<table border=\"1\" class=\"dataframe\">\n",
       "  <thead>\n",
       "    <tr style=\"text-align: right;\">\n",
       "      <th></th>\n",
       "      <th>Mode</th>\n",
       "      <th>OrigCtry</th>\n",
       "      <th>Shipments</th>\n",
       "      <th>Weight</th>\n",
       "      <th>Revenue</th>\n",
       "      <th>Distance</th>\n",
       "      <th>TonneKm</th>\n",
       "      <th>Value</th>\n",
       "      <th>OTHMF</th>\n",
       "      <th>PLCHM</th>\n",
       "      <th>...</th>\n",
       "      <th>QC</th>\n",
       "      <th>AB</th>\n",
       "      <th>BC</th>\n",
       "      <th>NB</th>\n",
       "      <th>NL</th>\n",
       "      <th>NT</th>\n",
       "      <th>NU</th>\n",
       "      <th>OI</th>\n",
       "      <th>PE</th>\n",
       "      <th>YT</th>\n",
       "    </tr>\n",
       "  </thead>\n",
       "  <tbody>\n",
       "    <tr>\n",
       "      <th>0</th>\n",
       "      <td>0.0</td>\n",
       "      <td>0.0</td>\n",
       "      <td>59.0</td>\n",
       "      <td>28284.2</td>\n",
       "      <td>58508.9</td>\n",
       "      <td>220471.0</td>\n",
       "      <td>105783.5</td>\n",
       "      <td>560727.5</td>\n",
       "      <td>0.0</td>\n",
       "      <td>0.0</td>\n",
       "      <td>...</td>\n",
       "      <td>0.0</td>\n",
       "      <td>0.0</td>\n",
       "      <td>0.0</td>\n",
       "      <td>0.0</td>\n",
       "      <td>1.0</td>\n",
       "      <td>0.0</td>\n",
       "      <td>0.0</td>\n",
       "      <td>0.0</td>\n",
       "      <td>0.0</td>\n",
       "      <td>0.0</td>\n",
       "    </tr>\n",
       "    <tr>\n",
       "      <th>1</th>\n",
       "      <td>0.0</td>\n",
       "      <td>0.0</td>\n",
       "      <td>127.0</td>\n",
       "      <td>138919.1</td>\n",
       "      <td>100204.1</td>\n",
       "      <td>478640.0</td>\n",
       "      <td>523088.6</td>\n",
       "      <td>1634366.4</td>\n",
       "      <td>0.0</td>\n",
       "      <td>0.0</td>\n",
       "      <td>...</td>\n",
       "      <td>0.0</td>\n",
       "      <td>0.0</td>\n",
       "      <td>0.0</td>\n",
       "      <td>0.0</td>\n",
       "      <td>1.0</td>\n",
       "      <td>0.0</td>\n",
       "      <td>0.0</td>\n",
       "      <td>0.0</td>\n",
       "      <td>0.0</td>\n",
       "      <td>0.0</td>\n",
       "    </tr>\n",
       "    <tr>\n",
       "      <th>2</th>\n",
       "      <td>0.0</td>\n",
       "      <td>0.0</td>\n",
       "      <td>42.0</td>\n",
       "      <td>22850.6</td>\n",
       "      <td>52947.4</td>\n",
       "      <td>196805.0</td>\n",
       "      <td>107261.2</td>\n",
       "      <td>1258757.7</td>\n",
       "      <td>0.0</td>\n",
       "      <td>0.0</td>\n",
       "      <td>...</td>\n",
       "      <td>0.0</td>\n",
       "      <td>0.0</td>\n",
       "      <td>0.0</td>\n",
       "      <td>0.0</td>\n",
       "      <td>1.0</td>\n",
       "      <td>0.0</td>\n",
       "      <td>0.0</td>\n",
       "      <td>0.0</td>\n",
       "      <td>0.0</td>\n",
       "      <td>0.0</td>\n",
       "    </tr>\n",
       "    <tr>\n",
       "      <th>3</th>\n",
       "      <td>0.0</td>\n",
       "      <td>0.0</td>\n",
       "      <td>49.0</td>\n",
       "      <td>612882.1</td>\n",
       "      <td>292874.2</td>\n",
       "      <td>185448.0</td>\n",
       "      <td>2374926.8</td>\n",
       "      <td>8193369.4</td>\n",
       "      <td>0.0</td>\n",
       "      <td>0.0</td>\n",
       "      <td>...</td>\n",
       "      <td>0.0</td>\n",
       "      <td>0.0</td>\n",
       "      <td>0.0</td>\n",
       "      <td>0.0</td>\n",
       "      <td>0.0</td>\n",
       "      <td>0.0</td>\n",
       "      <td>0.0</td>\n",
       "      <td>0.0</td>\n",
       "      <td>0.0</td>\n",
       "      <td>0.0</td>\n",
       "    </tr>\n",
       "    <tr>\n",
       "      <th>4</th>\n",
       "      <td>0.0</td>\n",
       "      <td>0.0</td>\n",
       "      <td>17.0</td>\n",
       "      <td>15362.5</td>\n",
       "      <td>13966.2</td>\n",
       "      <td>36060.0</td>\n",
       "      <td>32817.0</td>\n",
       "      <td>299427.2</td>\n",
       "      <td>0.0</td>\n",
       "      <td>0.0</td>\n",
       "      <td>...</td>\n",
       "      <td>0.0</td>\n",
       "      <td>0.0</td>\n",
       "      <td>0.0</td>\n",
       "      <td>0.0</td>\n",
       "      <td>0.0</td>\n",
       "      <td>0.0</td>\n",
       "      <td>0.0</td>\n",
       "      <td>0.0</td>\n",
       "      <td>0.0</td>\n",
       "      <td>0.0</td>\n",
       "    </tr>\n",
       "  </tbody>\n",
       "</table>\n",
       "<p>5 rows × 35 columns</p>\n",
       "</div>"
      ],
      "text/plain": [
       "   Mode  OrigCtry  Shipments    Weight   Revenue  Distance    TonneKm  \\\n",
       "0   0.0       0.0       59.0   28284.2   58508.9  220471.0   105783.5   \n",
       "1   0.0       0.0      127.0  138919.1  100204.1  478640.0   523088.6   \n",
       "2   0.0       0.0       42.0   22850.6   52947.4  196805.0   107261.2   \n",
       "3   0.0       0.0       49.0  612882.1  292874.2  185448.0  2374926.8   \n",
       "4   0.0       0.0       17.0   15362.5   13966.2   36060.0    32817.0   \n",
       "\n",
       "       Value  OTHMF  PLCHM  ...   QC   AB   BC   NB   NL   NT   NU   OI   PE  \\\n",
       "0   560727.5    0.0    0.0  ...  0.0  0.0  0.0  0.0  1.0  0.0  0.0  0.0  0.0   \n",
       "1  1634366.4    0.0    0.0  ...  0.0  0.0  0.0  0.0  1.0  0.0  0.0  0.0  0.0   \n",
       "2  1258757.7    0.0    0.0  ...  0.0  0.0  0.0  0.0  1.0  0.0  0.0  0.0  0.0   \n",
       "3  8193369.4    0.0    0.0  ...  0.0  0.0  0.0  0.0  0.0  0.0  0.0  0.0  0.0   \n",
       "4   299427.2    0.0    0.0  ...  0.0  0.0  0.0  0.0  0.0  0.0  0.0  0.0  0.0   \n",
       "\n",
       "    YT  \n",
       "0  0.0  \n",
       "1  0.0  \n",
       "2  0.0  \n",
       "3  0.0  \n",
       "4  0.0  \n",
       "\n",
       "[5 rows x 35 columns]"
      ]
     },
     "execution_count": 65,
     "metadata": {},
     "output_type": "execute_result"
    }
   ],
   "source": [
    "cat_df.head()"
   ]
  },
  {
   "cell_type": "markdown",
   "id": "44e1bb68",
   "metadata": {},
   "source": [
    "# KNN-imputer"
   ]
  },
  {
   "cell_type": "markdown",
   "id": "07d0204f",
   "metadata": {},
   "source": [
    "### fill nan values with knn imputer"
   ]
  },
  {
   "cell_type": "code",
   "execution_count": 66,
   "id": "6f478c77",
   "metadata": {},
   "outputs": [],
   "source": [
    "from sklearn.impute import KNNImputer"
   ]
  },
  {
   "cell_type": "code",
   "execution_count": 67,
   "id": "2b0d466e",
   "metadata": {},
   "outputs": [
    {
     "data": {
      "text/html": [
       "<div>\n",
       "<style scoped>\n",
       "    .dataframe tbody tr th:only-of-type {\n",
       "        vertical-align: middle;\n",
       "    }\n",
       "\n",
       "    .dataframe tbody tr th {\n",
       "        vertical-align: top;\n",
       "    }\n",
       "\n",
       "    .dataframe thead th {\n",
       "        text-align: right;\n",
       "    }\n",
       "</style>\n",
       "<table border=\"1\" class=\"dataframe\">\n",
       "  <thead>\n",
       "    <tr style=\"text-align: right;\">\n",
       "      <th></th>\n",
       "      <th>Mode</th>\n",
       "      <th>OrigCtry</th>\n",
       "      <th>Shipments</th>\n",
       "      <th>Weight</th>\n",
       "      <th>Revenue</th>\n",
       "      <th>Distance</th>\n",
       "      <th>TonneKm</th>\n",
       "      <th>Value</th>\n",
       "      <th>OTHMF</th>\n",
       "      <th>PLCHM</th>\n",
       "      <th>...</th>\n",
       "      <th>QC</th>\n",
       "      <th>AB</th>\n",
       "      <th>BC</th>\n",
       "      <th>NB</th>\n",
       "      <th>NL</th>\n",
       "      <th>NT</th>\n",
       "      <th>NU</th>\n",
       "      <th>OI</th>\n",
       "      <th>PE</th>\n",
       "      <th>YT</th>\n",
       "    </tr>\n",
       "  </thead>\n",
       "  <tbody>\n",
       "    <tr>\n",
       "      <th>0</th>\n",
       "      <td>0.0</td>\n",
       "      <td>0.0</td>\n",
       "      <td>59.0</td>\n",
       "      <td>28284.2</td>\n",
       "      <td>58508.9</td>\n",
       "      <td>220471.0</td>\n",
       "      <td>105783.5</td>\n",
       "      <td>560727.5</td>\n",
       "      <td>0.0</td>\n",
       "      <td>0.0</td>\n",
       "      <td>...</td>\n",
       "      <td>0.0</td>\n",
       "      <td>0.0</td>\n",
       "      <td>0.0</td>\n",
       "      <td>0.0</td>\n",
       "      <td>1.0</td>\n",
       "      <td>0.0</td>\n",
       "      <td>0.0</td>\n",
       "      <td>0.0</td>\n",
       "      <td>0.0</td>\n",
       "      <td>0.0</td>\n",
       "    </tr>\n",
       "    <tr>\n",
       "      <th>1</th>\n",
       "      <td>0.0</td>\n",
       "      <td>0.0</td>\n",
       "      <td>127.0</td>\n",
       "      <td>138919.1</td>\n",
       "      <td>100204.1</td>\n",
       "      <td>478640.0</td>\n",
       "      <td>523088.6</td>\n",
       "      <td>1634366.4</td>\n",
       "      <td>0.0</td>\n",
       "      <td>0.0</td>\n",
       "      <td>...</td>\n",
       "      <td>0.0</td>\n",
       "      <td>0.0</td>\n",
       "      <td>0.0</td>\n",
       "      <td>0.0</td>\n",
       "      <td>1.0</td>\n",
       "      <td>0.0</td>\n",
       "      <td>0.0</td>\n",
       "      <td>0.0</td>\n",
       "      <td>0.0</td>\n",
       "      <td>0.0</td>\n",
       "    </tr>\n",
       "    <tr>\n",
       "      <th>2</th>\n",
       "      <td>0.0</td>\n",
       "      <td>0.0</td>\n",
       "      <td>42.0</td>\n",
       "      <td>22850.6</td>\n",
       "      <td>52947.4</td>\n",
       "      <td>196805.0</td>\n",
       "      <td>107261.2</td>\n",
       "      <td>1258757.7</td>\n",
       "      <td>0.0</td>\n",
       "      <td>0.0</td>\n",
       "      <td>...</td>\n",
       "      <td>0.0</td>\n",
       "      <td>0.0</td>\n",
       "      <td>0.0</td>\n",
       "      <td>0.0</td>\n",
       "      <td>1.0</td>\n",
       "      <td>0.0</td>\n",
       "      <td>0.0</td>\n",
       "      <td>0.0</td>\n",
       "      <td>0.0</td>\n",
       "      <td>0.0</td>\n",
       "    </tr>\n",
       "    <tr>\n",
       "      <th>3</th>\n",
       "      <td>0.0</td>\n",
       "      <td>0.0</td>\n",
       "      <td>49.0</td>\n",
       "      <td>612882.1</td>\n",
       "      <td>292874.2</td>\n",
       "      <td>185448.0</td>\n",
       "      <td>2374926.8</td>\n",
       "      <td>8193369.4</td>\n",
       "      <td>0.0</td>\n",
       "      <td>0.0</td>\n",
       "      <td>...</td>\n",
       "      <td>0.0</td>\n",
       "      <td>0.0</td>\n",
       "      <td>0.0</td>\n",
       "      <td>0.0</td>\n",
       "      <td>0.0</td>\n",
       "      <td>0.0</td>\n",
       "      <td>0.0</td>\n",
       "      <td>0.0</td>\n",
       "      <td>0.0</td>\n",
       "      <td>0.0</td>\n",
       "    </tr>\n",
       "    <tr>\n",
       "      <th>4</th>\n",
       "      <td>0.0</td>\n",
       "      <td>0.0</td>\n",
       "      <td>17.0</td>\n",
       "      <td>15362.5</td>\n",
       "      <td>13966.2</td>\n",
       "      <td>36060.0</td>\n",
       "      <td>32817.0</td>\n",
       "      <td>299427.2</td>\n",
       "      <td>0.0</td>\n",
       "      <td>0.0</td>\n",
       "      <td>...</td>\n",
       "      <td>0.0</td>\n",
       "      <td>0.0</td>\n",
       "      <td>0.0</td>\n",
       "      <td>0.0</td>\n",
       "      <td>0.0</td>\n",
       "      <td>0.0</td>\n",
       "      <td>0.0</td>\n",
       "      <td>0.0</td>\n",
       "      <td>0.0</td>\n",
       "      <td>0.0</td>\n",
       "    </tr>\n",
       "  </tbody>\n",
       "</table>\n",
       "<p>5 rows × 35 columns</p>\n",
       "</div>"
      ],
      "text/plain": [
       "   Mode  OrigCtry  Shipments    Weight   Revenue  Distance    TonneKm  \\\n",
       "0   0.0       0.0       59.0   28284.2   58508.9  220471.0   105783.5   \n",
       "1   0.0       0.0      127.0  138919.1  100204.1  478640.0   523088.6   \n",
       "2   0.0       0.0       42.0   22850.6   52947.4  196805.0   107261.2   \n",
       "3   0.0       0.0       49.0  612882.1  292874.2  185448.0  2374926.8   \n",
       "4   0.0       0.0       17.0   15362.5   13966.2   36060.0    32817.0   \n",
       "\n",
       "       Value  OTHMF  PLCHM  ...   QC   AB   BC   NB   NL   NT   NU   OI   PE  \\\n",
       "0   560727.5    0.0    0.0  ...  0.0  0.0  0.0  0.0  1.0  0.0  0.0  0.0  0.0   \n",
       "1  1634366.4    0.0    0.0  ...  0.0  0.0  0.0  0.0  1.0  0.0  0.0  0.0  0.0   \n",
       "2  1258757.7    0.0    0.0  ...  0.0  0.0  0.0  0.0  1.0  0.0  0.0  0.0  0.0   \n",
       "3  8193369.4    0.0    0.0  ...  0.0  0.0  0.0  0.0  0.0  0.0  0.0  0.0  0.0   \n",
       "4   299427.2    0.0    0.0  ...  0.0  0.0  0.0  0.0  0.0  0.0  0.0  0.0  0.0   \n",
       "\n",
       "    YT  \n",
       "0  0.0  \n",
       "1  0.0  \n",
       "2  0.0  \n",
       "3  0.0  \n",
       "4  0.0  \n",
       "\n",
       "[5 rows x 35 columns]"
      ]
     },
     "execution_count": 67,
     "metadata": {},
     "output_type": "execute_result"
    }
   ],
   "source": [
    "knn = KNNImputer()\n",
    "array = knn.fit_transform(cat_df)\n",
    "cat_df1 = pd.DataFrame(array,columns=cat_df.columns)\n",
    "cat_df1.head()"
   ]
  },
  {
   "cell_type": "code",
   "execution_count": 68,
   "id": "0c84f472",
   "metadata": {},
   "outputs": [
    {
     "name": "stdout",
     "output_type": "stream",
     "text": [
      "<class 'pandas.core.frame.DataFrame'>\n",
      "RangeIndex: 58721 entries, 0 to 58720\n",
      "Data columns (total 38 columns):\n",
      " #   Column     Non-Null Count  Dtype  \n",
      "---  ------     --------------  -----  \n",
      " 0   Year       58721 non-null  int64  \n",
      " 1   OrigCMA    58721 non-null  int64  \n",
      " 2   DestCMA    58721 non-null  int64  \n",
      " 3   Mode       58721 non-null  float64\n",
      " 4   OrigCtry   58721 non-null  float64\n",
      " 5   Shipments  58721 non-null  float64\n",
      " 6   Weight     58721 non-null  float64\n",
      " 7   Revenue    58721 non-null  float64\n",
      " 8   Distance   58721 non-null  float64\n",
      " 9   TonneKm    58721 non-null  float64\n",
      " 10  Value      58721 non-null  float64\n",
      " 11  OTHMF      58721 non-null  float64\n",
      " 12  PLCHM      58721 non-null  float64\n",
      " 13  AGRI       58721 non-null  float64\n",
      " 14  MNRLS      58721 non-null  float64\n",
      " 15  BMETL      58721 non-null  float64\n",
      " 16  WASTE      58721 non-null  float64\n",
      " 17  MISC       58721 non-null  float64\n",
      " 18  TRANS      58721 non-null  float64\n",
      " 19  FRPAP      58721 non-null  float64\n",
      " 20  FUELS      58721 non-null  float64\n",
      " 21  COAL       58721 non-null  float64\n",
      " 22  FOOD       58721 non-null  float64\n",
      " 23  ON         58721 non-null  float64\n",
      " 24  MB         58721 non-null  float64\n",
      " 25  SK         58721 non-null  float64\n",
      " 26  UM         58721 non-null  float64\n",
      " 27  NS         58721 non-null  float64\n",
      " 28  QC         58721 non-null  float64\n",
      " 29  AB         58721 non-null  float64\n",
      " 30  BC         58721 non-null  float64\n",
      " 31  NB         58721 non-null  float64\n",
      " 32  NL         58721 non-null  float64\n",
      " 33  NT         58721 non-null  float64\n",
      " 34  NU         58721 non-null  float64\n",
      " 35  OI         58721 non-null  float64\n",
      " 36  PE         58721 non-null  float64\n",
      " 37  YT         58721 non-null  float64\n",
      "dtypes: float64(35), int64(3)\n",
      "memory usage: 17.0 MB\n"
     ]
    }
   ],
   "source": [
    "df = num_df.join(cat_df1)\n",
    "df.info()"
   ]
  },
  {
   "cell_type": "markdown",
   "id": "ee6b9fdc",
   "metadata": {},
   "source": [
    "### Handle Outliers"
   ]
  },
  {
   "cell_type": "code",
   "execution_count": 69,
   "id": "888cfa31",
   "metadata": {},
   "outputs": [
    {
     "data": {
      "image/png": "[encoded data removed]",
      "text/plain": [
       "<Figure size 640x480 with 1 Axes>"
      ]
     },
     "metadata": {},
     "output_type": "display_data"
    }
   ],
   "source": [
    "sns.kdeplot(data=df,x=\"Weight\")\n",
    "plt.show()"
   ]
  },
  {
   "cell_type": "code",
   "execution_count": 70,
   "id": "25ab754f",
   "metadata": {},
   "outputs": [
    {
     "name": "stderr",
     "output_type": "stream",
     "text": [
      "C:\\Users\\Mahesh\\anaconda3\\lib\\site-packages\\pandas\\core\\arraylike.py:397: RuntimeWarning: divide by zero encountered in log\n",
      "  result = getattr(ufunc, method)(*inputs, **kwargs)\n"
     ]
    }
   ],
   "source": [
    "# # Log transform a single column \n",
    "# df['Weight'] = np.log(df['Weight'] \n",
    "\n",
    "\n",
    "# Log transform multiple columns in dataframe \n",
    "df1 = np.around(df[['Weight','Revenue','Distance','TonneKm']].apply(lambda x: np.log(x)),2)\n",
    "df.drop(['Weight','Revenue','Distance','TonneKm'],axis=1,inplace=True)\n"
   ]
  },
  {
   "cell_type": "code",
   "execution_count": 71,
   "id": "a3523b29",
   "metadata": {},
   "outputs": [
    {
     "data": {
      "text/html": [
       "<div>\n",
       "<style scoped>\n",
       "    .dataframe tbody tr th:only-of-type {\n",
       "        vertical-align: middle;\n",
       "    }\n",
       "\n",
       "    .dataframe tbody tr th {\n",
       "        vertical-align: top;\n",
       "    }\n",
       "\n",
       "    .dataframe thead th {\n",
       "        text-align: right;\n",
       "    }\n",
       "</style>\n",
       "<table border=\"1\" class=\"dataframe\">\n",
       "  <thead>\n",
       "    <tr style=\"text-align: right;\">\n",
       "      <th></th>\n",
       "      <th>Year</th>\n",
       "      <th>OrigCMA</th>\n",
       "      <th>DestCMA</th>\n",
       "      <th>Mode</th>\n",
       "      <th>OrigCtry</th>\n",
       "      <th>Shipments</th>\n",
       "      <th>Value</th>\n",
       "      <th>OTHMF</th>\n",
       "      <th>PLCHM</th>\n",
       "      <th>AGRI</th>\n",
       "      <th>...</th>\n",
       "      <th>QC</th>\n",
       "      <th>AB</th>\n",
       "      <th>BC</th>\n",
       "      <th>NB</th>\n",
       "      <th>NL</th>\n",
       "      <th>NT</th>\n",
       "      <th>NU</th>\n",
       "      <th>OI</th>\n",
       "      <th>PE</th>\n",
       "      <th>YT</th>\n",
       "    </tr>\n",
       "  </thead>\n",
       "  <tbody>\n",
       "    <tr>\n",
       "      <th>0</th>\n",
       "      <td>2011</td>\n",
       "      <td>559</td>\n",
       "      <td>825</td>\n",
       "      <td>0.0</td>\n",
       "      <td>0.0</td>\n",
       "      <td>59.0</td>\n",
       "      <td>560727.5</td>\n",
       "      <td>0.0</td>\n",
       "      <td>0.0</td>\n",
       "      <td>0.0</td>\n",
       "      <td>...</td>\n",
       "      <td>0.0</td>\n",
       "      <td>0.0</td>\n",
       "      <td>0.0</td>\n",
       "      <td>0.0</td>\n",
       "      <td>1.0</td>\n",
       "      <td>0.0</td>\n",
       "      <td>0.0</td>\n",
       "      <td>0.0</td>\n",
       "      <td>0.0</td>\n",
       "      <td>0.0</td>\n",
       "    </tr>\n",
       "    <tr>\n",
       "      <th>1</th>\n",
       "      <td>2011</td>\n",
       "      <td>559</td>\n",
       "      <td>835</td>\n",
       "      <td>0.0</td>\n",
       "      <td>0.0</td>\n",
       "      <td>127.0</td>\n",
       "      <td>1634366.4</td>\n",
       "      <td>0.0</td>\n",
       "      <td>0.0</td>\n",
       "      <td>0.0</td>\n",
       "      <td>...</td>\n",
       "      <td>0.0</td>\n",
       "      <td>0.0</td>\n",
       "      <td>0.0</td>\n",
       "      <td>0.0</td>\n",
       "      <td>1.0</td>\n",
       "      <td>0.0</td>\n",
       "      <td>0.0</td>\n",
       "      <td>0.0</td>\n",
       "      <td>0.0</td>\n",
       "      <td>0.0</td>\n",
       "    </tr>\n",
       "    <tr>\n",
       "      <th>2</th>\n",
       "      <td>2011</td>\n",
       "      <td>559</td>\n",
       "      <td>933</td>\n",
       "      <td>0.0</td>\n",
       "      <td>0.0</td>\n",
       "      <td>42.0</td>\n",
       "      <td>1258757.7</td>\n",
       "      <td>0.0</td>\n",
       "      <td>0.0</td>\n",
       "      <td>0.0</td>\n",
       "      <td>...</td>\n",
       "      <td>0.0</td>\n",
       "      <td>0.0</td>\n",
       "      <td>0.0</td>\n",
       "      <td>0.0</td>\n",
       "      <td>1.0</td>\n",
       "      <td>0.0</td>\n",
       "      <td>0.0</td>\n",
       "      <td>0.0</td>\n",
       "      <td>0.0</td>\n",
       "      <td>0.0</td>\n",
       "    </tr>\n",
       "    <tr>\n",
       "      <th>3</th>\n",
       "      <td>2011</td>\n",
       "      <td>600</td>\n",
       "      <td>421</td>\n",
       "      <td>0.0</td>\n",
       "      <td>0.0</td>\n",
       "      <td>49.0</td>\n",
       "      <td>8193369.4</td>\n",
       "      <td>0.0</td>\n",
       "      <td>0.0</td>\n",
       "      <td>0.0</td>\n",
       "      <td>...</td>\n",
       "      <td>0.0</td>\n",
       "      <td>0.0</td>\n",
       "      <td>0.0</td>\n",
       "      <td>0.0</td>\n",
       "      <td>0.0</td>\n",
       "      <td>0.0</td>\n",
       "      <td>0.0</td>\n",
       "      <td>0.0</td>\n",
       "      <td>0.0</td>\n",
       "      <td>0.0</td>\n",
       "    </tr>\n",
       "    <tr>\n",
       "      <th>4</th>\n",
       "      <td>2011</td>\n",
       "      <td>600</td>\n",
       "      <td>537</td>\n",
       "      <td>0.0</td>\n",
       "      <td>0.0</td>\n",
       "      <td>17.0</td>\n",
       "      <td>299427.2</td>\n",
       "      <td>0.0</td>\n",
       "      <td>0.0</td>\n",
       "      <td>0.0</td>\n",
       "      <td>...</td>\n",
       "      <td>0.0</td>\n",
       "      <td>0.0</td>\n",
       "      <td>0.0</td>\n",
       "      <td>0.0</td>\n",
       "      <td>0.0</td>\n",
       "      <td>0.0</td>\n",
       "      <td>0.0</td>\n",
       "      <td>0.0</td>\n",
       "      <td>0.0</td>\n",
       "      <td>0.0</td>\n",
       "    </tr>\n",
       "    <tr>\n",
       "      <th>...</th>\n",
       "      <td>...</td>\n",
       "      <td>...</td>\n",
       "      <td>...</td>\n",
       "      <td>...</td>\n",
       "      <td>...</td>\n",
       "      <td>...</td>\n",
       "      <td>...</td>\n",
       "      <td>...</td>\n",
       "      <td>...</td>\n",
       "      <td>...</td>\n",
       "      <td>...</td>\n",
       "      <td>...</td>\n",
       "      <td>...</td>\n",
       "      <td>...</td>\n",
       "      <td>...</td>\n",
       "      <td>...</td>\n",
       "      <td>...</td>\n",
       "      <td>...</td>\n",
       "      <td>...</td>\n",
       "      <td>...</td>\n",
       "      <td>...</td>\n",
       "    </tr>\n",
       "    <tr>\n",
       "      <th>58716</th>\n",
       "      <td>2014</td>\n",
       "      <td>500</td>\n",
       "      <td>600</td>\n",
       "      <td>0.0</td>\n",
       "      <td>0.0</td>\n",
       "      <td>712.6</td>\n",
       "      <td>14417142.7</td>\n",
       "      <td>0.0</td>\n",
       "      <td>0.0</td>\n",
       "      <td>0.0</td>\n",
       "      <td>...</td>\n",
       "      <td>0.0</td>\n",
       "      <td>0.0</td>\n",
       "      <td>0.0</td>\n",
       "      <td>0.0</td>\n",
       "      <td>1.0</td>\n",
       "      <td>0.0</td>\n",
       "      <td>0.0</td>\n",
       "      <td>0.0</td>\n",
       "      <td>0.0</td>\n",
       "      <td>0.0</td>\n",
       "    </tr>\n",
       "    <tr>\n",
       "      <th>58717</th>\n",
       "      <td>2014</td>\n",
       "      <td>500</td>\n",
       "      <td>900</td>\n",
       "      <td>0.0</td>\n",
       "      <td>0.0</td>\n",
       "      <td>1706.2</td>\n",
       "      <td>22885575.0</td>\n",
       "      <td>0.0</td>\n",
       "      <td>0.0</td>\n",
       "      <td>0.0</td>\n",
       "      <td>...</td>\n",
       "      <td>0.0</td>\n",
       "      <td>0.0</td>\n",
       "      <td>0.0</td>\n",
       "      <td>0.0</td>\n",
       "      <td>1.0</td>\n",
       "      <td>0.0</td>\n",
       "      <td>0.0</td>\n",
       "      <td>0.0</td>\n",
       "      <td>0.0</td>\n",
       "      <td>0.0</td>\n",
       "    </tr>\n",
       "    <tr>\n",
       "      <th>58718</th>\n",
       "      <td>2014</td>\n",
       "      <td>532</td>\n",
       "      <td>110</td>\n",
       "      <td>0.0</td>\n",
       "      <td>0.0</td>\n",
       "      <td>5.0</td>\n",
       "      <td>13809.9</td>\n",
       "      <td>0.0</td>\n",
       "      <td>0.0</td>\n",
       "      <td>0.0</td>\n",
       "      <td>...</td>\n",
       "      <td>0.0</td>\n",
       "      <td>0.0</td>\n",
       "      <td>0.0</td>\n",
       "      <td>0.0</td>\n",
       "      <td>1.0</td>\n",
       "      <td>0.0</td>\n",
       "      <td>0.0</td>\n",
       "      <td>0.0</td>\n",
       "      <td>0.0</td>\n",
       "      <td>0.0</td>\n",
       "    </tr>\n",
       "    <tr>\n",
       "      <th>58719</th>\n",
       "      <td>2014</td>\n",
       "      <td>532</td>\n",
       "      <td>462</td>\n",
       "      <td>0.0</td>\n",
       "      <td>0.0</td>\n",
       "      <td>2439.0</td>\n",
       "      <td>29435070.3</td>\n",
       "      <td>0.0</td>\n",
       "      <td>0.0</td>\n",
       "      <td>0.0</td>\n",
       "      <td>...</td>\n",
       "      <td>0.0</td>\n",
       "      <td>0.0</td>\n",
       "      <td>0.0</td>\n",
       "      <td>0.0</td>\n",
       "      <td>1.0</td>\n",
       "      <td>0.0</td>\n",
       "      <td>0.0</td>\n",
       "      <td>0.0</td>\n",
       "      <td>0.0</td>\n",
       "      <td>0.0</td>\n",
       "    </tr>\n",
       "    <tr>\n",
       "      <th>58720</th>\n",
       "      <td>2014</td>\n",
       "      <td>532</td>\n",
       "      <td>600</td>\n",
       "      <td>0.0</td>\n",
       "      <td>0.0</td>\n",
       "      <td>28.0</td>\n",
       "      <td>49892.4</td>\n",
       "      <td>0.0</td>\n",
       "      <td>0.0</td>\n",
       "      <td>0.0</td>\n",
       "      <td>...</td>\n",
       "      <td>0.0</td>\n",
       "      <td>0.0</td>\n",
       "      <td>0.0</td>\n",
       "      <td>0.0</td>\n",
       "      <td>1.0</td>\n",
       "      <td>0.0</td>\n",
       "      <td>0.0</td>\n",
       "      <td>0.0</td>\n",
       "      <td>0.0</td>\n",
       "      <td>0.0</td>\n",
       "    </tr>\n",
       "  </tbody>\n",
       "</table>\n",
       "<p>58721 rows × 34 columns</p>\n",
       "</div>"
      ],
      "text/plain": [
       "       Year  OrigCMA  DestCMA  Mode  OrigCtry  Shipments       Value  OTHMF  \\\n",
       "0      2011      559      825   0.0       0.0       59.0    560727.5    0.0   \n",
       "1      2011      559      835   0.0       0.0      127.0   1634366.4    0.0   \n",
       "2      2011      559      933   0.0       0.0       42.0   1258757.7    0.0   \n",
       "3      2011      600      421   0.0       0.0       49.0   8193369.4    0.0   \n",
       "4      2011      600      537   0.0       0.0       17.0    299427.2    0.0   \n",
       "...     ...      ...      ...   ...       ...        ...         ...    ...   \n",
       "58716  2014      500      600   0.0       0.0      712.6  14417142.7    0.0   \n",
       "58717  2014      500      900   0.0       0.0     1706.2  22885575.0    0.0   \n",
       "58718  2014      532      110   0.0       0.0        5.0     13809.9    0.0   \n",
       "58719  2014      532      462   0.0       0.0     2439.0  29435070.3    0.0   \n",
       "58720  2014      532      600   0.0       0.0       28.0     49892.4    0.0   \n",
       "\n",
       "       PLCHM  AGRI  ...   QC   AB   BC   NB   NL   NT   NU   OI   PE   YT  \n",
       "0        0.0   0.0  ...  0.0  0.0  0.0  0.0  1.0  0.0  0.0  0.0  0.0  0.0  \n",
       "1        0.0   0.0  ...  0.0  0.0  0.0  0.0  1.0  0.0  0.0  0.0  0.0  0.0  \n",
       "2        0.0   0.0  ...  0.0  0.0  0.0  0.0  1.0  0.0  0.0  0.0  0.0  0.0  \n",
       "3        0.0   0.0  ...  0.0  0.0  0.0  0.0  0.0  0.0  0.0  0.0  0.0  0.0  \n",
       "4        0.0   0.0  ...  0.0  0.0  0.0  0.0  0.0  0.0  0.0  0.0  0.0  0.0  \n",
       "...      ...   ...  ...  ...  ...  ...  ...  ...  ...  ...  ...  ...  ...  \n",
       "58716    0.0   0.0  ...  0.0  0.0  0.0  0.0  1.0  0.0  0.0  0.0  0.0  0.0  \n",
       "58717    0.0   0.0  ...  0.0  0.0  0.0  0.0  1.0  0.0  0.0  0.0  0.0  0.0  \n",
       "58718    0.0   0.0  ...  0.0  0.0  0.0  0.0  1.0  0.0  0.0  0.0  0.0  0.0  \n",
       "58719    0.0   0.0  ...  0.0  0.0  0.0  0.0  1.0  0.0  0.0  0.0  0.0  0.0  \n",
       "58720    0.0   0.0  ...  0.0  0.0  0.0  0.0  1.0  0.0  0.0  0.0  0.0  0.0  \n",
       "\n",
       "[58721 rows x 34 columns]"
      ]
     },
     "execution_count": 71,
     "metadata": {},
     "output_type": "execute_result"
    }
   ],
   "source": [
    "df"
   ]
  },
  {
   "cell_type": "code",
   "execution_count": 72,
   "id": "4708fcef",
   "metadata": {},
   "outputs": [
    {
     "data": {
      "image/png": "[encoded data removed]",
      "text/plain": [
       "<Figure size 3000x500 with 1 Axes>"
      ]
     },
     "metadata": {},
     "output_type": "display_data"
    }
   ],
   "source": [
    "plt.figure(figsize=(30,5))\n",
    "df.boxplot()\n",
    "plt.show()"
   ]
  },
  {
   "cell_type": "code",
   "execution_count": 73,
   "id": "95645dc8",
   "metadata": {},
   "outputs": [],
   "source": [
    "for i in df.iloc[:,34: ] :\n",
    "    sns.kdeplot(data=df.columns,x=df[i])\n",
    "    plt.show()\n",
    "    print(i)\n",
    "    \n",
    "# after handling outliers data is normally distributed"
   ]
  },
  {
   "cell_type": "markdown",
   "id": "77e28a39",
   "metadata": {},
   "source": [
    "### checking target variable outliers"
   ]
  },
  {
   "cell_type": "code",
   "execution_count": 74,
   "id": "d3f2d390",
   "metadata": {},
   "outputs": [
    {
     "data": {
      "text/plain": [
       "3.121582e+07      1\n",
       "6.718856e+06      1\n",
       "2.167200e+03      1\n",
       "2.317090e+04      1\n",
       "2.741069e+08      1\n",
       "               ... \n",
       "1.215167e+09    133\n",
       "1.085553e+09    161\n",
       "1.524984e+09    171\n",
       "7.048808e+08    221\n",
       "1.725122e+09    246\n",
       "Name: Value, Length: 55830, dtype: int64"
      ]
     },
     "execution_count": 74,
     "metadata": {},
     "output_type": "execute_result"
    }
   ],
   "source": [
    "df[\"Value\"].value_counts().sort_values()"
   ]
  },
  {
   "cell_type": "code",
   "execution_count": 75,
   "id": "61f7fdda",
   "metadata": {},
   "outputs": [
    {
     "data": {
      "text/html": [
       "<div>\n",
       "<style scoped>\n",
       "    .dataframe tbody tr th:only-of-type {\n",
       "        vertical-align: middle;\n",
       "    }\n",
       "\n",
       "    .dataframe tbody tr th {\n",
       "        vertical-align: top;\n",
       "    }\n",
       "\n",
       "    .dataframe thead th {\n",
       "        text-align: right;\n",
       "    }\n",
       "</style>\n",
       "<table border=\"1\" class=\"dataframe\">\n",
       "  <thead>\n",
       "    <tr style=\"text-align: right;\">\n",
       "      <th></th>\n",
       "      <th>Value</th>\n",
       "    </tr>\n",
       "  </thead>\n",
       "  <tbody>\n",
       "    <tr>\n",
       "      <th>0</th>\n",
       "      <td>560727.5</td>\n",
       "    </tr>\n",
       "    <tr>\n",
       "      <th>1</th>\n",
       "      <td>1634366.4</td>\n",
       "    </tr>\n",
       "    <tr>\n",
       "      <th>2</th>\n",
       "      <td>1258757.7</td>\n",
       "    </tr>\n",
       "    <tr>\n",
       "      <th>3</th>\n",
       "      <td>8193369.4</td>\n",
       "    </tr>\n",
       "    <tr>\n",
       "      <th>4</th>\n",
       "      <td>299427.2</td>\n",
       "    </tr>\n",
       "    <tr>\n",
       "      <th>...</th>\n",
       "      <td>...</td>\n",
       "    </tr>\n",
       "    <tr>\n",
       "      <th>58716</th>\n",
       "      <td>14417142.7</td>\n",
       "    </tr>\n",
       "    <tr>\n",
       "      <th>58717</th>\n",
       "      <td>22885575.0</td>\n",
       "    </tr>\n",
       "    <tr>\n",
       "      <th>58718</th>\n",
       "      <td>13809.9</td>\n",
       "    </tr>\n",
       "    <tr>\n",
       "      <th>58719</th>\n",
       "      <td>29435070.3</td>\n",
       "    </tr>\n",
       "    <tr>\n",
       "      <th>58720</th>\n",
       "      <td>49892.4</td>\n",
       "    </tr>\n",
       "  </tbody>\n",
       "</table>\n",
       "<p>58721 rows × 1 columns</p>\n",
       "</div>"
      ],
      "text/plain": [
       "            Value\n",
       "0        560727.5\n",
       "1       1634366.4\n",
       "2       1258757.7\n",
       "3       8193369.4\n",
       "4        299427.2\n",
       "...           ...\n",
       "58716  14417142.7\n",
       "58717  22885575.0\n",
       "58718     13809.9\n",
       "58719  29435070.3\n",
       "58720     49892.4\n",
       "\n",
       "[58721 rows x 1 columns]"
      ]
     },
     "execution_count": 75,
     "metadata": {},
     "output_type": "execute_result"
    }
   ],
   "source": [
    "df[['Value']]"
   ]
  },
  {
   "cell_type": "code",
   "execution_count": 76,
   "id": "29a59bdb",
   "metadata": {},
   "outputs": [
    {
     "name": "stderr",
     "output_type": "stream",
     "text": [
      "C:\\Users\\Mahesh\\anaconda3\\lib\\site-packages\\pandas\\core\\arraylike.py:397: RuntimeWarning: divide by zero encountered in log\n",
      "  result = getattr(ufunc, method)(*inputs, **kwargs)\n"
     ]
    },
    {
     "data": {
      "text/html": [
       "<div>\n",
       "<style scoped>\n",
       "    .dataframe tbody tr th:only-of-type {\n",
       "        vertical-align: middle;\n",
       "    }\n",
       "\n",
       "    .dataframe tbody tr th {\n",
       "        vertical-align: top;\n",
       "    }\n",
       "\n",
       "    .dataframe thead th {\n",
       "        text-align: right;\n",
       "    }\n",
       "</style>\n",
       "<table border=\"1\" class=\"dataframe\">\n",
       "  <thead>\n",
       "    <tr style=\"text-align: right;\">\n",
       "      <th></th>\n",
       "      <th>Value</th>\n",
       "    </tr>\n",
       "  </thead>\n",
       "  <tbody>\n",
       "    <tr>\n",
       "      <th>0</th>\n",
       "      <td>13.24</td>\n",
       "    </tr>\n",
       "    <tr>\n",
       "      <th>1</th>\n",
       "      <td>14.31</td>\n",
       "    </tr>\n",
       "    <tr>\n",
       "      <th>2</th>\n",
       "      <td>14.05</td>\n",
       "    </tr>\n",
       "    <tr>\n",
       "      <th>3</th>\n",
       "      <td>15.92</td>\n",
       "    </tr>\n",
       "    <tr>\n",
       "      <th>4</th>\n",
       "      <td>12.61</td>\n",
       "    </tr>\n",
       "    <tr>\n",
       "      <th>...</th>\n",
       "      <td>...</td>\n",
       "    </tr>\n",
       "    <tr>\n",
       "      <th>58716</th>\n",
       "      <td>16.48</td>\n",
       "    </tr>\n",
       "    <tr>\n",
       "      <th>58717</th>\n",
       "      <td>16.95</td>\n",
       "    </tr>\n",
       "    <tr>\n",
       "      <th>58718</th>\n",
       "      <td>9.53</td>\n",
       "    </tr>\n",
       "    <tr>\n",
       "      <th>58719</th>\n",
       "      <td>17.20</td>\n",
       "    </tr>\n",
       "    <tr>\n",
       "      <th>58720</th>\n",
       "      <td>10.82</td>\n",
       "    </tr>\n",
       "  </tbody>\n",
       "</table>\n",
       "<p>58721 rows × 1 columns</p>\n",
       "</div>"
      ],
      "text/plain": [
       "       Value\n",
       "0      13.24\n",
       "1      14.31\n",
       "2      14.05\n",
       "3      15.92\n",
       "4      12.61\n",
       "...      ...\n",
       "58716  16.48\n",
       "58717  16.95\n",
       "58718   9.53\n",
       "58719  17.20\n",
       "58720  10.82\n",
       "\n",
       "[58721 rows x 1 columns]"
      ]
     },
     "execution_count": 76,
     "metadata": {},
     "output_type": "execute_result"
    }
   ],
   "source": [
    "# # Log transform a single column \n",
    "df['Value'] = np.around(np.log(df['Value']),2)\n",
    "df[['Value']]"
   ]
  },
  {
   "cell_type": "code",
   "execution_count": 77,
   "id": "432ea896",
   "metadata": {},
   "outputs": [
    {
     "data": {
      "text/html": [
       "<div>\n",
       "<style scoped>\n",
       "    .dataframe tbody tr th:only-of-type {\n",
       "        vertical-align: middle;\n",
       "    }\n",
       "\n",
       "    .dataframe tbody tr th {\n",
       "        vertical-align: top;\n",
       "    }\n",
       "\n",
       "    .dataframe thead th {\n",
       "        text-align: right;\n",
       "    }\n",
       "</style>\n",
       "<table border=\"1\" class=\"dataframe\">\n",
       "  <thead>\n",
       "    <tr style=\"text-align: right;\">\n",
       "      <th></th>\n",
       "      <th>Shipments</th>\n",
       "    </tr>\n",
       "  </thead>\n",
       "  <tbody>\n",
       "    <tr>\n",
       "      <th>0</th>\n",
       "      <td>4.08</td>\n",
       "    </tr>\n",
       "    <tr>\n",
       "      <th>1</th>\n",
       "      <td>4.84</td>\n",
       "    </tr>\n",
       "    <tr>\n",
       "      <th>2</th>\n",
       "      <td>3.74</td>\n",
       "    </tr>\n",
       "    <tr>\n",
       "      <th>3</th>\n",
       "      <td>3.89</td>\n",
       "    </tr>\n",
       "    <tr>\n",
       "      <th>4</th>\n",
       "      <td>2.83</td>\n",
       "    </tr>\n",
       "    <tr>\n",
       "      <th>...</th>\n",
       "      <td>...</td>\n",
       "    </tr>\n",
       "    <tr>\n",
       "      <th>58716</th>\n",
       "      <td>6.57</td>\n",
       "    </tr>\n",
       "    <tr>\n",
       "      <th>58717</th>\n",
       "      <td>7.44</td>\n",
       "    </tr>\n",
       "    <tr>\n",
       "      <th>58718</th>\n",
       "      <td>1.61</td>\n",
       "    </tr>\n",
       "    <tr>\n",
       "      <th>58719</th>\n",
       "      <td>7.80</td>\n",
       "    </tr>\n",
       "    <tr>\n",
       "      <th>58720</th>\n",
       "      <td>3.33</td>\n",
       "    </tr>\n",
       "  </tbody>\n",
       "</table>\n",
       "<p>58721 rows × 1 columns</p>\n",
       "</div>"
      ],
      "text/plain": [
       "       Shipments\n",
       "0           4.08\n",
       "1           4.84\n",
       "2           3.74\n",
       "3           3.89\n",
       "4           2.83\n",
       "...          ...\n",
       "58716       6.57\n",
       "58717       7.44\n",
       "58718       1.61\n",
       "58719       7.80\n",
       "58720       3.33\n",
       "\n",
       "[58721 rows x 1 columns]"
      ]
     },
     "execution_count": 77,
     "metadata": {},
     "output_type": "execute_result"
    }
   ],
   "source": [
    "df['Shipments'] = np.around(np.log(df['Shipments']),2)\n",
    "df[['Shipments']]"
   ]
  },
  {
   "cell_type": "markdown",
   "id": "379ee6ec",
   "metadata": {},
   "source": [
    "### Check Multicollinearity"
   ]
  },
  {
   "cell_type": "code",
   "execution_count": 78,
   "id": "175d7dfc",
   "metadata": {},
   "outputs": [],
   "source": [
    "from statsmodels.stats.outliers_influence import variance_inflation_factor"
   ]
  },
  {
   "cell_type": "raw",
   "id": "2e003d9a",
   "metadata": {},
   "source": [
    "vif_list = []\n",
    "\n",
    "for i in range(x.shape[1]):\n",
    "    vif = variance_inflation_factor(x.to_numpy(),i)\n",
    "    vif_list.append(vif)\n",
    "vif_list\n"
   ]
  },
  {
   "cell_type": "raw",
   "id": "a8f5ee68",
   "metadata": {},
   "source": [
    "s1 = pd.Series(vif_list,index = x.columns)\n",
    "plt.figure(figsize=(20,20))\n",
    "s1.sort_values().plot(kind=\"barh\") \n",
    "plt.show()\n",
    "\n",
    "# SK,OrigCtry,ON,COAL,UM,MNRLS,WASTE,MB,PLCHM,NL,FUELS,FOOD,BMETL,OI,MISC >>>> WE HAVE TO DROP THESE COLUMNS TO DURING FEATURE SELECTION BECAUSE THESE COLUMNS HAVE HIGH MULTICOLLINEARITY"
   ]
  },
  {
   "cell_type": "code",
   "execution_count": 79,
   "id": "b812a0e4",
   "metadata": {},
   "outputs": [],
   "source": [
    "df_new = df[np.isfinite(df).all(1)]"
   ]
  },
  {
   "cell_type": "code",
   "execution_count": 80,
   "id": "07635f15",
   "metadata": {},
   "outputs": [
    {
     "data": {
      "text/plain": [
       "Index(['Year', 'OrigCMA', 'DestCMA', 'Mode', 'OrigCtry', 'Shipments', 'Value',\n",
       "       'OTHMF', 'PLCHM', 'AGRI', 'MNRLS', 'BMETL', 'WASTE', 'MISC', 'TRANS',\n",
       "       'FRPAP', 'FUELS', 'COAL', 'FOOD', 'ON', 'MB', 'SK', 'UM', 'NS', 'QC',\n",
       "       'AB', 'BC', 'NB', 'NL', 'NT', 'NU', 'OI', 'PE', 'YT'],\n",
       "      dtype='object')"
      ]
     },
     "execution_count": 80,
     "metadata": {},
     "output_type": "execute_result"
    }
   ],
   "source": [
    "df_new.columns"
   ]
  },
  {
   "cell_type": "code",
   "execution_count": 81,
   "id": "b03b5561",
   "metadata": {},
   "outputs": [],
   "source": [
    "x = df_new.drop(['SK','OrigCtry','ON','COAL','UM','MNRLS','WASTE','MB','PLCHM','NL','FUELS','FOOD','BMETL','OI','MISC','Value'],axis=1)\n",
    "y = df_new['Value']"
   ]
  },
  {
   "cell_type": "code",
   "execution_count": 82,
   "id": "f4884d00",
   "metadata": {},
   "outputs": [],
   "source": [
    "x_train,x_test,y_train,y_test = train_test_split(x,y,train_size=0.8,test_size=0.2,random_state=42)"
   ]
  },
  {
   "cell_type": "code",
   "execution_count": 83,
   "id": "7fe6cccc",
   "metadata": {},
   "outputs": [
    {
     "data": {
      "text/plain": [
       "(46903, 18)"
      ]
     },
     "execution_count": 83,
     "metadata": {},
     "output_type": "execute_result"
    }
   ],
   "source": [
    "x_train.shape"
   ]
  },
  {
   "cell_type": "code",
   "execution_count": 84,
   "id": "bee5254b",
   "metadata": {},
   "outputs": [
    {
     "data": {
      "text/plain": [
       "(11726, 18)"
      ]
     },
     "execution_count": 84,
     "metadata": {},
     "output_type": "execute_result"
    }
   ],
   "source": [
    "x_test.shape"
   ]
  },
  {
   "cell_type": "code",
   "execution_count": 85,
   "id": "7ade1ca2",
   "metadata": {},
   "outputs": [
    {
     "data": {
      "text/plain": [
       "(46903,)"
      ]
     },
     "execution_count": 85,
     "metadata": {},
     "output_type": "execute_result"
    }
   ],
   "source": [
    "y_train.shape"
   ]
  },
  {
   "cell_type": "code",
   "execution_count": 86,
   "id": "bd4f56c9",
   "metadata": {},
   "outputs": [
    {
     "data": {
      "text/plain": [
       "(11726,)"
      ]
     },
     "execution_count": 86,
     "metadata": {},
     "output_type": "execute_result"
    }
   ],
   "source": [
    "y_test.shape"
   ]
  },
  {
   "cell_type": "code",
   "execution_count": 87,
   "id": "b58cbd5b",
   "metadata": {},
   "outputs": [
    {
     "data": {
      "text/plain": [
       "LinearRegression()"
      ]
     },
     "execution_count": 87,
     "metadata": {},
     "output_type": "execute_result"
    }
   ],
   "source": [
    "lrmodel = LinearRegression()\n",
    "lrmodel.fit(x_train,y_train)"
   ]
  },
  {
   "cell_type": "code",
   "execution_count": null,
   "id": "e818ad9f",
   "metadata": {},
   "outputs": [],
   "source": []
  },
  {
   "cell_type": "code",
   "execution_count": 88,
   "id": "cd964f1c",
   "metadata": {},
   "outputs": [
    {
     "name": "stdout",
     "output_type": "stream",
     "text": [
      "MSE 2.3884992286668307\n",
      "mae 1.1844416127117754\n",
      "R2 score 0.8705415593522929\n"
     ]
    }
   ],
   "source": [
    "# Testing\n",
    "y_pred_test = lrmodel.predict(x_test)\n",
    "\n",
    "mse = mean_squared_error(y_test,y_pred_test)\n",
    "print(\"MSE\",mse)\n",
    "mae = mean_absolute_error(y_test,y_pred_test)\n",
    "print(\"mae\",mae)\n",
    "\n",
    "R2_Score = r2_score(y_test,y_pred_test)\n",
    "print(\"R2 score\",R2_Score)"
   ]
  },
  {
   "cell_type": "code",
   "execution_count": 89,
   "id": "8fc8e74d",
   "metadata": {},
   "outputs": [
    {
     "name": "stdout",
     "output_type": "stream",
     "text": [
      "MSE 2.356258723762954\n",
      "mae 1.1756785036091262\n",
      "R2 score 0.8740372348902847\n"
     ]
    }
   ],
   "source": [
    "# Training\n",
    "y_pred_train = lrmodel.predict(x_train)\n",
    "\n",
    "mse = mean_squared_error(y_train,y_pred_train)\n",
    "print(\"MSE\",mse)\n",
    "mae = mean_absolute_error(y_train,y_pred_train)\n",
    "print(\"mae\",mae)\n",
    "\n",
    "R2_Score = r2_score(y_train,y_pred_train)\n",
    "print(\"R2 score\",R2_Score)"
   ]
  },
  {
   "cell_type": "markdown",
   "id": "b57157dc",
   "metadata": {},
   "source": [
    "# Overfitting Issue Occur"
   ]
  },
  {
   "cell_type": "markdown",
   "id": "04a484dc",
   "metadata": {},
   "source": [
    "# Knn Algorithm"
   ]
  },
  {
   "cell_type": "code",
   "execution_count": 90,
   "id": "962334b4",
   "metadata": {},
   "outputs": [
    {
     "data": {
      "text/plain": [
       "KNeighborsRegressor()"
      ]
     },
     "execution_count": 90,
     "metadata": {},
     "output_type": "execute_result"
    }
   ],
   "source": [
    "knn_reg = KNeighborsRegressor() # k=5,p=2 (E.D)\n",
    "knn_reg.fit(x_train,y_train)"
   ]
  },
  {
   "cell_type": "code",
   "execution_count": 91,
   "id": "f1257c4d",
   "metadata": {},
   "outputs": [
    {
     "name": "stdout",
     "output_type": "stream",
     "text": [
      "MSE 2.989492732048439\n",
      "mae 1.2519542896128264\n",
      "R2 score 0.837967262968445\n"
     ]
    }
   ],
   "source": [
    "# Testing\n",
    "y_pred_test = knn_reg.predict(x_test)\n",
    "\n",
    "mse = mean_squared_error(y_test,y_pred_test)\n",
    "print(\"MSE\",mse)\n",
    "mae = mean_absolute_error(y_test,y_pred_test)\n",
    "print(\"mae\",mae)\n",
    "\n",
    "R2_Score = r2_score(y_test,y_pred_test)\n",
    "print(\"R2 score\",R2_Score)"
   ]
  },
  {
   "cell_type": "code",
   "execution_count": 92,
   "id": "56517cca",
   "metadata": {},
   "outputs": [
    {
     "name": "stdout",
     "output_type": "stream",
     "text": [
      "MSE 1.89943842082596\n",
      "mae 0.9928410975843763\n",
      "R2 score 0.8984583003428537\n"
     ]
    }
   ],
   "source": [
    "# Training\n",
    "y_pred_train = knn_reg.predict(x_train)\n",
    "\n",
    "mse = mean_squared_error(y_train,y_pred_train)\n",
    "print(\"MSE\",mse)\n",
    "mae = mean_absolute_error(y_train,y_pred_train)\n",
    "print(\"mae\",mae)\n",
    "\n",
    "R2_Score = r2_score(y_train,y_pred_train)\n",
    "print(\"R2 score\",R2_Score)"
   ]
  },
  {
   "cell_type": "markdown",
   "id": "583070ff",
   "metadata": {},
   "source": [
    "### after using Knn regression overfitting issue is solved"
   ]
  },
  {
   "cell_type": "code",
   "execution_count": 93,
   "id": "9e9c631e",
   "metadata": {},
   "outputs": [
    {
     "data": {
      "image/png": "[encoded data removed]",
      "text/plain": [
       "<Figure size 1000x500 with 1 Axes>"
      ]
     },
     "metadata": {},
     "output_type": "display_data"
    }
   ],
   "source": [
    "plt.figure(figsize = (10,5))\n",
    "sns.regplot(x=y_test,y=y_pred_test)\n",
    "plt.title('Linear regression for freight analysis', fontsize = 20)\n",
    "plt.show()"
   ]
  },
  {
   "cell_type": "code",
   "execution_count": 94,
   "id": "db08cb8f",
   "metadata": {},
   "outputs": [
    {
     "data": {
      "image/png": "[encoded data removed]",
      "text/plain": [
       "<Figure size 1000x500 with 1 Axes>"
      ]
     },
     "metadata": {},
     "output_type": "display_data"
    }
   ],
   "source": [
    "plt.figure(figsize = (10,5))\n",
    "sns.regplot(x=y_train,y=y_pred_train)\n",
    "plt.title('Linear regression for freight analysis', fontsize = 20)\n",
    "plt.show()"
   ]
  },
  {
   "cell_type": "markdown",
   "id": "82c5934e",
   "metadata": {},
   "source": [
    "## hyperparameter tuning in KNN"
   ]
  },
  {
   "cell_type": "code",
   "execution_count": 95,
   "id": "f5672657",
   "metadata": {},
   "outputs": [
    {
     "data": {
      "text/plain": [
       "Text(0.5, 1.0, 'Comparison between training and testing accuracies')"
      ]
     },
     "execution_count": 95,
     "metadata": {},
     "output_type": "execute_result"
    }
   ],
   "source": [
    "r2_train_list = []\n",
    "r2_test_list = []\n",
    "k_values = range(2,30)\n",
    "\n",
    "for k in k_values:\n",
    "    knn_reg = KNeighborsRegressor(n_neighbors=k,p=2)\n",
    "    knn_reg.fit(x_train,y_train)\n",
    "    #training\n",
    "    r2_train = knn_reg.score(x_train,y_train)\n",
    "    r2_train_list.append(r2_train)\n",
    "    \n",
    "    #testing\n",
    "    r2_test = knn_reg.score(x_test,y_test)\n",
    "    r2_test_list.append(r2_test)\n",
    "    \n",
    "plt.figure(figsize=(20,8))\n",
    "plt.plot(k_values,r2_train_list,color='green')\n",
    "plt.plot(k_values,r2_test_list)\n",
    "plt.xlabel('k_values')\n",
    "plt.ylabel('Accuracy')\n",
    "plt.title(\"Comparison between training and testing accuracies\")"
   ]
  },
  {
   "cell_type": "code",
   "execution_count": 96,
   "id": "fc63ae43",
   "metadata": {},
   "outputs": [
    {
     "data": {
      "text/plain": [
       "KNeighborsRegressor(n_neighbors=4, p=1)"
      ]
     },
     "execution_count": 96,
     "metadata": {},
     "output_type": "execute_result"
    }
   ],
   "source": [
    "knn_reg = KNeighborsRegressor(n_neighbors=4,p=1)\n",
    "knn_reg.fit(x_train,y_train)"
   ]
  },
  {
   "cell_type": "code",
   "execution_count": 97,
   "id": "da1b301f",
   "metadata": {},
   "outputs": [
    {
     "name": "stdout",
     "output_type": "stream",
     "text": [
      "MSE 2.7624987639646936\n",
      "mae 1.205001492410029\n",
      "R2 score 0.8502705054362935\n"
     ]
    }
   ],
   "source": [
    "# Testing\n",
    "y_pred_test = knn_reg.predict(x_test)\n",
    "\n",
    "mse = mean_squared_error(y_test,y_pred_test)\n",
    "print(\"MSE\",mse)\n",
    "mae = mean_absolute_error(y_test,y_pred_test)\n",
    "print(\"mae\",mae)\n",
    "\n",
    "R2_Score = r2_score(y_test,y_pred_test)\n",
    "print(\"R2 score\",R2_Score)"
   ]
  },
  {
   "cell_type": "code",
   "execution_count": 98,
   "id": "375459fd",
   "metadata": {},
   "outputs": [
    {
     "name": "stdout",
     "output_type": "stream",
     "text": [
      "MSE 1.5947526509498327\n",
      "mae 0.9101223802315417\n",
      "R2 score 0.9147464361388615\n"
     ]
    }
   ],
   "source": [
    "# Training\n",
    "y_pred_train = knn_reg.predict(x_train)\n",
    "\n",
    "mse = mean_squared_error(y_train,y_pred_train)\n",
    "print(\"MSE\",mse)\n",
    "mae = mean_absolute_error(y_train,y_pred_train)\n",
    "print(\"mae\",mae)\n",
    "\n",
    "R2_Score = r2_score(y_train,y_pred_train)\n",
    "\n",
    "print(\"R2 score\",R2_Score)"
   ]
  },
  {
   "cell_type": "code",
   "execution_count": null,
   "id": "caf3214d",
   "metadata": {},
   "outputs": [],
   "source": []
  },
  {
   "cell_type": "markdown",
   "id": "19913e5b",
   "metadata": {},
   "source": [
    "## Decision Tree"
   ]
  },
  {
   "cell_type": "code",
   "execution_count": 99,
   "id": "311145cc",
   "metadata": {},
   "outputs": [
    {
     "data": {
      "text/plain": [
       "DecisionTreeRegressor()"
      ]
     },
     "execution_count": 99,
     "metadata": {},
     "output_type": "execute_result"
    }
   ],
   "source": [
    "dt = DecisionTreeRegressor()\n",
    "dt.fit(x_train,y_train)"
   ]
  },
  {
   "cell_type": "code",
   "execution_count": 100,
   "id": "e793ab3f",
   "metadata": {},
   "outputs": [
    {
     "name": "stdout",
     "output_type": "stream",
     "text": [
      "mse 0.0402423068176165\n",
      "mae 0.025974315786481524\n",
      "r2 score 0.9978486945469871\n"
     ]
    }
   ],
   "source": [
    "# Training\n",
    "y_pred_train = dt.predict(x_train)\n",
    "\n",
    "mse = mean_squared_error(y_train,y_pred_train)\n",
    "print(\"mse\",mse)\n",
    "\n",
    "mae = mean_absolute_error(y_train,y_pred_train)\n",
    "print(\"mae\",mae)\n",
    "\n",
    "r2_value = r2_score(y_train,y_pred_train)\n",
    "print(\"r2 score\",r2_value)"
   ]
  },
  {
   "cell_type": "code",
   "execution_count": 101,
   "id": "27df4be1",
   "metadata": {},
   "outputs": [
    {
     "name": "stdout",
     "output_type": "stream",
     "text": [
      "mse 2.9901095933538\n",
      "mae 1.217253539143783\n",
      "r2 score 0.8379338286253523\n"
     ]
    }
   ],
   "source": [
    "# Testing\n",
    "y_pred_test = dt.predict(x_test)\n",
    "\n",
    "mse = mean_squared_error(y_test,y_pred_test)\n",
    "print(\"mse\",mse)\n",
    "\n",
    "mae = mean_absolute_error(y_test,y_pred_test)\n",
    "print(\"mae\",mae)\n",
    "r2_value = r2_score(y_test,y_pred_test)\n",
    "print(\"r2 score\",r2_value)"
   ]
  },
  {
   "cell_type": "code",
   "execution_count": 102,
   "id": "8607f12e",
   "metadata": {},
   "outputs": [
    {
     "data": {
      "text/plain": [
       "RandomizedSearchCV(cv=5, estimator=DecisionTreeRegressor(),\n",
       "                   param_distributions={'criterion': ['squared_error',\n",
       "                                                      'absolute_error'],\n",
       "                                        'max_depth': array([2, 3, 4, 5, 6]),\n",
       "                                        'min_samples_leaf': array([2, 3]),\n",
       "                                        'min_samples_split': array([2, 3, 4]),\n",
       "                                        'random_state': [41, 42, 43, 45]})"
      ]
     },
     "execution_count": 102,
     "metadata": {},
     "output_type": "execute_result"
    }
   ],
   "source": [
    "dt_reg = DecisionTreeRegressor()\n",
    "hyp = { 'criterion':['squared_error','absolute_error'],'max_depth':np.arange(2,7),'min_samples_split':np.arange(2,5),\n",
    "                     'min_samples_leaf':np.arange(2,4),'random_state':[41,42,43,45]}\n",
    "rdscv = RandomizedSearchCV(dt_reg,hyp,cv=5)\n",
    "rdscv.fit(x_train,y_train)"
   ]
  },
  {
   "cell_type": "code",
   "execution_count": 103,
   "id": "e4f0abfc",
   "metadata": {},
   "outputs": [
    {
     "data": {
      "text/plain": [
       "DecisionTreeRegressor(max_depth=6, min_samples_leaf=3, random_state=45)"
      ]
     },
     "execution_count": 103,
     "metadata": {},
     "output_type": "execute_result"
    }
   ],
   "source": [
    "rdscv.best_estimator_"
   ]
  },
  {
   "cell_type": "code",
   "execution_count": 104,
   "id": "d68ae527",
   "metadata": {},
   "outputs": [
    {
     "data": {
      "text/plain": [
       "DecisionTreeRegressor(max_depth=40, min_samples_leaf=10, min_samples_split=10,\n",
       "                      random_state=42)"
      ]
     },
     "execution_count": 104,
     "metadata": {},
     "output_type": "execute_result"
    }
   ],
   "source": [
    "dt_reg = DecisionTreeRegressor(max_depth=40, min_samples_leaf=10, min_samples_split=10,\n",
    "                      random_state=42)\n",
    "dt_reg.fit(x_train,y_train)"
   ]
  },
  {
   "cell_type": "code",
   "execution_count": 105,
   "id": "ae613f42",
   "metadata": {},
   "outputs": [
    {
     "name": "stdout",
     "output_type": "stream",
     "text": [
      "mse 1.7526152558628594\n",
      "mae 0.9610835429419106\n",
      "r2 score 0.9050069452163777\n"
     ]
    }
   ],
   "source": [
    "# Testing\n",
    "y_pred_test = dt_reg.predict(x_test)\n",
    "\n",
    "mse = mean_squared_error(y_test,y_pred_test)\n",
    "print(\"mse\",mse)\n",
    "\n",
    "mae = mean_absolute_error(y_test,y_pred_test)\n",
    "print(\"mae\",mae)\n",
    "r2_value = r2_score(y_test,y_pred_test)\n",
    "print(\"r2 score\",r2_value)"
   ]
  },
  {
   "cell_type": "code",
   "execution_count": 106,
   "id": "095df042",
   "metadata": {},
   "outputs": [
    {
     "name": "stdout",
     "output_type": "stream",
     "text": [
      "mse 1.1699697461755065\n",
      "mae 0.7800590730784449\n",
      "r2 score 0.9374548207135658\n"
     ]
    }
   ],
   "source": [
    "# Training\n",
    "y_pred_train = dt_reg.predict(x_train)\n",
    "\n",
    "mse = mean_squared_error(y_train,y_pred_train)\n",
    "print(\"mse\",mse)\n",
    "\n",
    "mae = mean_absolute_error(y_train,y_pred_train)\n",
    "print(\"mae\",mae)\n",
    "\n",
    "r2_value = r2_score(y_train,y_pred_train)\n",
    "print(\"r2 score\",r2_value)"
   ]
  },
  {
   "cell_type": "code",
   "execution_count": null,
   "id": "142b8c11",
   "metadata": {},
   "outputs": [],
   "source": []
  }
 ],
 "metadata": {
  "kernelspec": {
   "display_name": "Python 3 (ipykernel)",
   "language": "python",
   "name": "python3"
  },
  "language_info": {
   "codemirror_mode": {
    "name": "ipython",
    "version": 3
   },
   "file_extension": ".py",
   "mimetype": "text/x-python",
   "name": "python",
   "nbconvert_exporter": "python",
   "pygments_lexer": "ipython3",
   "version": "3.9.13"
  }
 },
 "nbformat": 4,
 "nbformat_minor": 5
}
